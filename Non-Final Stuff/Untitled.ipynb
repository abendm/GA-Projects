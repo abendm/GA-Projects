{
 "cells": [
  {
   "cell_type": "code",
   "execution_count": 4,
   "metadata": {
    "collapsed": true
   },
   "outputs": [],
   "source": [
    "import pandas as pd\n",
    "import requests\n",
    "import os\n",
    "import re\n",
    "from bs4 import BeautifulSoup"
   ]
  },
  {
   "cell_type": "code",
   "execution_count": 13,
   "metadata": {
    "collapsed": true
   },
   "outputs": [],
   "source": [
    "url_first = 'https://www.sec.gov/cgi-bin/browse-edgar?action=getcompany&CIK='\n",
    "CIK = '0001067983'\n",
    "url_second = '&type=13F-HR%25&dateb=&owner=exclude&start=0&count=100'\n",
    "\n",
    "url = url_first+CIK+url_second"
   ]
  },
  {
   "cell_type": "code",
   "execution_count": 14,
   "metadata": {},
   "outputs": [
    {
     "name": "stderr",
     "output_type": "stream",
     "text": [
      "C:\\ProgramData\\Anaconda3\\lib\\site-packages\\requests\\packages\\urllib3\\connectionpool.py:852: InsecureRequestWarning: Unverified HTTPS request is being made. Adding certificate verification is strongly advised. See: https://urllib3.readthedocs.io/en/latest/advanced-usage.html#ssl-warnings\n",
      "  InsecureRequestWarning)\n"
     ]
    }
   ],
   "source": [
    "response = requests.get(url, verify=False)\n",
    "soup = BeautifulSoup(response.text, 'html.parser')"
   ]
  },
  {
   "cell_type": "code",
   "execution_count": 28,
   "metadata": {
    "collapsed": true
   },
   "outputs": [],
   "source": [
    "file_table = soup.find('table', {'class':'tableFile2'})"
   ]
  },
  {
   "cell_type": "code",
   "execution_count": 30,
   "metadata": {
    "collapsed": true
   },
   "outputs": [],
   "source": [
    "rows = file_table.find_all('tr')"
   ]
  },
  {
   "cell_type": "code",
   "execution_count": 31,
   "metadata": {},
   "outputs": [
    {
     "data": {
      "text/plain": [
       "[<tr>\n",
       " <th scope=\"col\" width=\"7%\">Filings</th>\n",
       " <th scope=\"col\" width=\"10%\">Format</th>\n",
       " <th scope=\"col\">Description</th>\n",
       " <th scope=\"col\" width=\"10%\">Filing Date</th>\n",
       " <th scope=\"col\" width=\"15%\">File/Film Number</th>\n",
       " </tr>, <tr>\n",
       " <td nowrap=\"nowrap\">13F-HR</td>\n",
       " <td nowrap=\"nowrap\"><a href=\"/Archives/edgar/data/1067983/000095012318008866/0000950123-18-008866-index.htm\" id=\"documentsbutton\"> Documents</a></td>\n",
       " <td class=\"small\">Quarterly report filed by institutional managers, Holdings<br/>Acc-no: 0000950123-18-008866 (34 Act)  Size: 91 KB            </td>\n",
       " <td>2018-08-14</td>\n",
       " <td nowrap=\"nowrap\"><a href=\"/cgi-bin/browse-edgar?action=getcompany&amp;filenum=028-04545&amp;owner=exclude&amp;count=100\">028-04545</a><br/>181017246         </td>\n",
       " </tr>, <tr class=\"blueRow\">\n",
       " <td nowrap=\"nowrap\">13F-HR</td>\n",
       " <td nowrap=\"nowrap\"><a href=\"/Archives/edgar/data/1067983/000095012318005732/0000950123-18-005732-index.htm\" id=\"documentsbutton\"> Documents</a></td>\n",
       " <td class=\"small\">Quarterly report filed by institutional managers, Holdings<br>Acc-no: 0000950123-18-005732 (34 Act)  Size: 91 KB            </br></td>\n",
       " <td>2018-05-15</td>\n",
       " <td nowrap=\"nowrap\"><a href=\"/cgi-bin/browse-edgar?action=getcompany&amp;filenum=028-04545&amp;owner=exclude&amp;count=100\">028-04545</a><br/>18836218         </td>\n",
       " </tr>, <tr>\n",
       " <td nowrap=\"nowrap\">13F-HR</td>\n",
       " <td nowrap=\"nowrap\"><a href=\"/Archives/edgar/data/1067983/000095012318002390/0000950123-18-002390-index.htm\" id=\"documentsbutton\"> Documents</a></td>\n",
       " <td class=\"small\">Quarterly report filed by institutional managers, Holdings<br>Acc-no: 0000950123-18-002390 (34 Act)  Size: 92 KB            </br></td>\n",
       " <td>2018-02-14</td>\n",
       " <td nowrap=\"nowrap\"><a href=\"/cgi-bin/browse-edgar?action=getcompany&amp;filenum=028-04545&amp;owner=exclude&amp;count=100\">028-04545</a><br/>18612176         </td>\n",
       " </tr>, <tr class=\"blueRow\">\n",
       " <td nowrap=\"nowrap\">13F-HR</td>\n",
       " <td nowrap=\"nowrap\"><a href=\"/Archives/edgar/data/1067983/000095012317010896/0000950123-17-010896-index.htm\" id=\"documentsbutton\"> Documents</a></td>\n",
       " <td class=\"small\">Quarterly report filed by institutional managers, Holdings<br>Acc-no: 0000950123-17-010896 (34 Act)  Size: 90 KB            </br></td>\n",
       " <td>2017-11-14</td>\n",
       " <td nowrap=\"nowrap\"><a href=\"/cgi-bin/browse-edgar?action=getcompany&amp;filenum=028-04545&amp;owner=exclude&amp;count=100\">028-04545</a><br/>171201578         </td>\n",
       " </tr>]"
      ]
     },
     "execution_count": 31,
     "metadata": {},
     "output_type": "execute_result"
    }
   ],
   "source": [
    "rows[:5]"
   ]
  },
  {
   "cell_type": "code",
   "execution_count": 32,
   "metadata": {},
   "outputs": [
    {
     "name": "stdout",
     "output_type": "stream",
     "text": [
      "Collecting alpha_vantage\n",
      "  Could not fetch URL https://pypi.python.org/simple/alpha-vantage/: There was a problem confirming the ssl certificate: [SSL: CERTIFICATE_VERIFY_FAILED] certificate verify failed (_ssl.c:749) - skipping\n"
     ]
    },
    {
     "name": "stderr",
     "output_type": "stream",
     "text": [
      "  Could not find a version that satisfies the requirement alpha_vantage (from versions: )\n",
      "No matching distribution found for alpha_vantage\n"
     ]
    }
   ],
   "source": [
    "!pip install alpha_vantage"
   ]
  },
  {
   "cell_type": "code",
   "execution_count": 33,
   "metadata": {},
   "outputs": [
    {
     "name": "stdout",
     "output_type": "stream",
     "text": [
      "Collecting scrapy\n",
      "  Could not fetch URL https://pypi.python.org/simple/scrapy/: There was a problem confirming the ssl certificate: [SSL: CERTIFICATE_VERIFY_FAILED] certificate verify failed (_ssl.c:749) - skipping\n"
     ]
    },
    {
     "name": "stderr",
     "output_type": "stream",
     "text": [
      "  Could not find a version that satisfies the requirement scrapy (from versions: )\n",
      "No matching distribution found for scrapy\n"
     ]
    }
   ],
   "source": [
    "!pip install scrapy"
   ]
  },
  {
   "cell_type": "code",
   "execution_count": 34,
   "metadata": {},
   "outputs": [
    {
     "name": "stdout",
     "output_type": "stream",
     "text": [
      "Requirement already satisfied: pip in c:\\programdata\\anaconda3\\lib\\site-packages\n",
      "Requirement already satisfied: setuptools in c:\\programdata\\anaconda3\\lib\\site-packages\\setuptools-27.2.0-py3.6.egg\n"
     ]
    }
   ],
   "source": [
    "!pip install --trusted-host pypi.org --trusted-host files.pythonhosted.org pip setuptools"
   ]
  },
  {
   "cell_type": "code",
   "execution_count": null,
   "metadata": {
    "collapsed": true
   },
   "outputs": [],
   "source": []
  }
 ],
 "metadata": {
  "kernelspec": {
   "display_name": "Python 3",
   "language": "python",
   "name": "python3"
  },
  "language_info": {
   "codemirror_mode": {
    "name": "ipython",
    "version": 3
   },
   "file_extension": ".py",
   "mimetype": "text/x-python",
   "name": "python",
   "nbconvert_exporter": "python",
   "pygments_lexer": "ipython3",
   "version": "3.6.1"
  }
 },
 "nbformat": 4,
 "nbformat_minor": 2
}
