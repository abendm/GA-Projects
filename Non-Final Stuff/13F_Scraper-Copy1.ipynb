{
 "cells": [
  {
   "cell_type": "code",
   "execution_count": 34,
   "metadata": {
    "collapsed": true
   },
   "outputs": [],
   "source": [
    "import pandas as pd\n",
    "import os\n",
    "import re\n",
    "from bs4 import BeautifulSoup"
   ]
  },
  {
   "cell_type": "code",
   "execution_count": 35,
   "metadata": {
    "collapsed": true
   },
   "outputs": [],
   "source": [
    "df = pd.DataFrame(columns=['Manager', 'Year', 'Quarter' 'name', 'shareclass', \n",
    "                           'CUSIP', 'val1000', 'share_count', 'share_or_prin', 'discretion', \n",
    "                           'sole_vote_amt', 'shared_vote_amt'])"
   ]
  },
  {
   "cell_type": "code",
   "execution_count": 36,
   "metadata": {},
   "outputs": [
    {
     "data": {
      "text/plain": [
       "['EngineersGate', '2018', 'Q2', 'xml']"
      ]
     },
     "execution_count": 36,
     "metadata": {},
     "output_type": "execute_result"
    }
   ],
   "source": [
    "filename = \"final_proj_data/EngineersGate_2018_Q2.xml\"\n",
    "f= open(filename)\n",
    "f.close\n",
    "mgr_yr_qtr_ext = re.split('[_ .]', os.path.basename(filename))\n",
    "mgr_yr_qtr_ext"
   ]
  },
  {
   "cell_type": "markdown",
   "metadata": {},
   "source": [
    "## The below will take in a single 13F infotable, extract all of the data, and stick it into a dataframe.  The above \"mgr_yr_qtr_ext\" will extract the name of the investor, the year of the filing, the quarter of the filing, and the filename extension and put into a list.\n",
    "\n",
    "## Next step is to figure out how to loop through two files and place the manager, year, and quarter into each dataframe."
   ]
  },
  {
   "cell_type": "code",
   "execution_count": 37,
   "metadata": {},
   "outputs": [],
   "source": [
    "# mgr_yr_qtr_ext = re.split('[_ .]', os.path.basename(filename))\n",
    "# mgr_yr_qtr_ext[0]\n",
    "mgr_name = []\n",
    "year = []\n",
    "quarter = []\n",
    "sh_name = []\n",
    "sh_class = []\n",
    "cusip = []\n",
    "val1000 = []\n",
    "shares = []\n",
    "sh_prin_type = []\n",
    "discretion = []\n",
    "othermgr = []\n",
    "sole = []\n",
    "shared = []"
   ]
  },
  {
   "cell_type": "code",
   "execution_count": 38,
   "metadata": {
    "collapsed": true,
    "scrolled": true
   },
   "outputs": [],
   "source": [
    "# directory = 'final_proj_data/'\n",
    "# inner_df = pd.DataFrame(columns=['Manager', 'Year', 'Quarter' 'name', 'shareclass', 'CUSIP', 'val1000', 'share_count', \n",
    "#                                  'share_or_prin', 'discretion','sole_vote_amt', 'shared_vote_amt'])\n",
    "# for file in os.listdir(directory):\n",
    "#     filename = os.fsdecode(file)\n",
    "#     soup = BeautifulSoup(open(directory+filename), \"lxml\")\n",
    "#     record = soup.find_all('infotable')\n",
    "#     for rec in record:\n",
    "#         sh_name.append(rec.find('nameofissuer').text)\n",
    "#         sh_class.append(rec.find('titleofclass').text)\n",
    "#         cusip.append(rec.find('cusip').text)\n",
    "#         val1000.append(rec.find('value').text)\n",
    "#         shares.append(rec.find('sshprnamt').text)\n",
    "#         sh_prin_type.append(rec.find('sshprnamttype').text)\n",
    "#         discretion.append(rec.find('investmentdiscretion').text)\n",
    "#         sole.append(rec.find('sole').text)\n",
    "#         shared.append(rec.find('shared').text)\n",
    "#         inner_df = pd.DataFrame(columns=['Manager', 'Year', 'Quarter' 'name', 'shareclass', 'CUSIP', 'val1000', 'share_count', 'share_or_prin', 'discretion', \n",
    "#                            'sole_vote_amt', 'shared_vote_amt'])\n",
    "#         df.Manager = "
   ]
  },
  {
   "cell_type": "code",
   "execution_count": 39,
   "metadata": {
    "collapsed": true,
    "scrolled": true
   },
   "outputs": [],
   "source": [
    "directory = 'final_proj_data/'\n",
    "df = pd.DataFrame(columns=['manager', 'year', 'quarter', 'sh_name', 'sh_class', 'cusip', 'val1000', 'share_count', \n",
    "                                 'share_or_prin', 'discretion','sole_vote_amt', 'shared_vote_amt'])\n",
    "sh_name = []\n",
    "sh_class = []\n",
    "cusip = []\n",
    "val1000 = []\n",
    "share_count = []\n",
    "share_or_prin = []\n",
    "discretion = []\n",
    "sole_vote_amt = []\n",
    "shared_vote_amt = []\n",
    "mgr_name = []\n",
    "year = []\n",
    "quarter = []\n",
    "for file in os.listdir(directory):\n",
    "    filename = os.fsdecode(file)\n",
    "    soup = BeautifulSoup(open(directory+filename), \"lxml\")\n",
    "    record = soup.find_all('infotable')\n",
    "    for rec in record:\n",
    "        mgr_name.append(re.split('[_ .]', filename)[0])\n",
    "        year.append(re.split('[_ .]', filename)[1])\n",
    "        quarter.append(re.split('[_ .]', filename)[2])\n",
    "        sh_name.append(rec.find('nameofissuer').text)\n",
    "        sh_class.append(rec.find('titleofclass').text)\n",
    "        cusip.append(rec.find('cusip').text)\n",
    "        val1000.append(rec.find('value').text)\n",
    "        share_count.append(rec.find('sshprnamt').text)\n",
    "        share_or_prin.append(rec.find('sshprnamttype').text)\n",
    "        discretion.append(rec.find('investmentdiscretion').text)\n",
    "        sole_vote_amt.append(rec.find('sole').text)\n",
    "        shared_vote_amt.append(rec.find('shared').text)\n"
   ]
  },
  {
   "cell_type": "code",
   "execution_count": 40,
   "metadata": {},
   "outputs": [],
   "source": [
    "df['manager'] = mgr_name\n",
    "df['year'] = year\n",
    "df['quarter']=quarter\n",
    "df['sh_name'] = sh_name\n",
    "df['sh_class'] = sh_class\n",
    "df['share_count'] = share_count\n",
    "df['cusip'] = cusip\n",
    "df['val1000'] = val1000\n",
    "df['share_or_prin'] = share_or_prin\n",
    "df['discretion'] = discretion\n",
    "df['sole_vote_amt'] = sole_vote_amt\n",
    "df['shared_vote_amt'] = shared_vote_amt"
   ]
  },
  {
   "cell_type": "code",
   "execution_count": 41,
   "metadata": {},
   "outputs": [
    {
     "data": {
      "text/html": [
       "<div>\n",
       "<style scoped>\n",
       "    .dataframe tbody tr th:only-of-type {\n",
       "        vertical-align: middle;\n",
       "    }\n",
       "\n",
       "    .dataframe tbody tr th {\n",
       "        vertical-align: top;\n",
       "    }\n",
       "\n",
       "    .dataframe thead th {\n",
       "        text-align: right;\n",
       "    }\n",
       "</style>\n",
       "<table border=\"1\" class=\"dataframe\">\n",
       "  <thead>\n",
       "    <tr style=\"text-align: right;\">\n",
       "      <th></th>\n",
       "      <th>manager</th>\n",
       "      <th>year</th>\n",
       "      <th>quarter</th>\n",
       "      <th>sh_name</th>\n",
       "      <th>sh_class</th>\n",
       "      <th>cusip</th>\n",
       "      <th>val1000</th>\n",
       "      <th>share_count</th>\n",
       "      <th>share_or_prin</th>\n",
       "      <th>discretion</th>\n",
       "      <th>sole_vote_amt</th>\n",
       "      <th>shared_vote_amt</th>\n",
       "    </tr>\n",
       "  </thead>\n",
       "  <tbody>\n",
       "    <tr>\n",
       "      <th>0</th>\n",
       "      <td>Berkshire</td>\n",
       "      <td>2018</td>\n",
       "      <td>Q2</td>\n",
       "      <td>AMERICAN AIRLS GROUP INC</td>\n",
       "      <td>COM</td>\n",
       "      <td>02376R102</td>\n",
       "      <td>787366</td>\n",
       "      <td>20742000</td>\n",
       "      <td>SH</td>\n",
       "      <td>DFND</td>\n",
       "      <td>20742000</td>\n",
       "      <td>0</td>\n",
       "    </tr>\n",
       "    <tr>\n",
       "      <th>1</th>\n",
       "      <td>Berkshire</td>\n",
       "      <td>2018</td>\n",
       "      <td>Q2</td>\n",
       "      <td>AMERICAN AIRLS GROUP INC</td>\n",
       "      <td>COM</td>\n",
       "      <td>02376R102</td>\n",
       "      <td>871190</td>\n",
       "      <td>22950200</td>\n",
       "      <td>SH</td>\n",
       "      <td>DFND</td>\n",
       "      <td>22950200</td>\n",
       "      <td>0</td>\n",
       "    </tr>\n",
       "    <tr>\n",
       "      <th>2</th>\n",
       "      <td>Berkshire</td>\n",
       "      <td>2018</td>\n",
       "      <td>Q2</td>\n",
       "      <td>AMERICAN AIRLS GROUP INC</td>\n",
       "      <td>COM</td>\n",
       "      <td>02376R102</td>\n",
       "      <td>38256</td>\n",
       "      <td>1007800</td>\n",
       "      <td>SH</td>\n",
       "      <td>DFND</td>\n",
       "      <td>1007800</td>\n",
       "      <td>0</td>\n",
       "    </tr>\n",
       "    <tr>\n",
       "      <th>3</th>\n",
       "      <td>Berkshire</td>\n",
       "      <td>2018</td>\n",
       "      <td>Q2</td>\n",
       "      <td>AMERICAN EXPRESS CO</td>\n",
       "      <td>COM</td>\n",
       "      <td>025816109</td>\n",
       "      <td>191310</td>\n",
       "      <td>1952142</td>\n",
       "      <td>SH</td>\n",
       "      <td>DFND</td>\n",
       "      <td>1952142</td>\n",
       "      <td>0</td>\n",
       "    </tr>\n",
       "    <tr>\n",
       "      <th>4</th>\n",
       "      <td>Berkshire</td>\n",
       "      <td>2018</td>\n",
       "      <td>Q2</td>\n",
       "      <td>AMERICAN EXPRESS CO</td>\n",
       "      <td>COM</td>\n",
       "      <td>025816109</td>\n",
       "      <td>1688089</td>\n",
       "      <td>17225400</td>\n",
       "      <td>SH</td>\n",
       "      <td>DFND</td>\n",
       "      <td>17225400</td>\n",
       "      <td>0</td>\n",
       "    </tr>\n",
       "  </tbody>\n",
       "</table>\n",
       "</div>"
      ],
      "text/plain": [
       "     manager  year quarter                   sh_name sh_class      cusip  \\\n",
       "0  Berkshire  2018      Q2  AMERICAN AIRLS GROUP INC      COM  02376R102   \n",
       "1  Berkshire  2018      Q2  AMERICAN AIRLS GROUP INC      COM  02376R102   \n",
       "2  Berkshire  2018      Q2  AMERICAN AIRLS GROUP INC      COM  02376R102   \n",
       "3  Berkshire  2018      Q2       AMERICAN EXPRESS CO      COM  025816109   \n",
       "4  Berkshire  2018      Q2       AMERICAN EXPRESS CO      COM  025816109   \n",
       "\n",
       "   val1000 share_count share_or_prin discretion sole_vote_amt shared_vote_amt  \n",
       "0   787366    20742000            SH       DFND      20742000               0  \n",
       "1   871190    22950200            SH       DFND      22950200               0  \n",
       "2    38256     1007800            SH       DFND       1007800               0  \n",
       "3   191310     1952142            SH       DFND       1952142               0  \n",
       "4  1688089    17225400            SH       DFND      17225400               0  "
      ]
     },
     "execution_count": 41,
     "metadata": {},
     "output_type": "execute_result"
    }
   ],
   "source": [
    "df.head()"
   ]
  },
  {
   "cell_type": "code",
   "execution_count": null,
   "metadata": {},
   "outputs": [],
   "source": []
  }
 ],
 "metadata": {
  "kernelspec": {
   "display_name": "Python 3",
   "language": "python",
   "name": "python3"
  },
  "language_info": {
   "codemirror_mode": {
    "name": "ipython",
    "version": 3
   },
   "file_extension": ".py",
   "mimetype": "text/x-python",
   "name": "python",
   "nbconvert_exporter": "python",
   "pygments_lexer": "ipython3",
   "version": "3.6.5"
  }
 },
 "nbformat": 4,
 "nbformat_minor": 2
}
