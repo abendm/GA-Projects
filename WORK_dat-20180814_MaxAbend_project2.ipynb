{
 "cells": [
  {
   "cell_type": "markdown",
   "metadata": {},
   "source": [
    "# Further Regression Considerations\n",
    "\n",
    "- Collinearity\n",
    "- Cleaning and Preparing Data\n",
    "- Test Train Split for Assessment\n",
    "\n",
    "\n",
    "### Collinearity\n",
    "\n",
    "The notion of independence of variables is related to the notion of collinearity.  Briefly, we find collinearity anytime we find strong relationships between dependent variables.  As we saw earlier, the relationship between `newspaper` and other mediums were interrelated to one another.  This can be detected by looking both at plots of the variables themselves against one another, examining the correlation coefficients of variables, and calculating the Variance in Frequency measure for the different features."
   ]
  },
  {
   "cell_type": "code",
   "execution_count": 18,
   "metadata": {
    "collapsed": true
   },
   "outputs": [],
   "source": [
    "%matplotlib notebook\n",
    "import matplotlib.pyplot as plt\n",
    "import numpy as np\n",
    "import pandas as pd\n",
    "import seaborn as sns\n",
    "from pandas.plotting import scatter_matrix"
   ]
  },
  {
   "cell_type": "markdown",
   "metadata": {},
   "source": [
    "### Feature Engineering and Cleaning\n",
    "\n",
    "\n",
    "We want to return to our Housing example and consider how to use some of `scikitlearn`'s functionality to deal with missing values.  We want to determine the correct way of dealing with these one by one, and use some of what we know about the data to inform these decisions.  If we have objects that are missing values, we can either exclude the observations, or encode the missing values using some kind of numerical value.  \n"
   ]
  },
  {
   "cell_type": "code",
   "execution_count": 21,
   "metadata": {},
   "outputs": [],
   "source": [
    "ames = pd.read_csv('data/ames_housing.csv')"
   ]
  },
  {
   "cell_type": "code",
   "execution_count": 22,
   "metadata": {},
   "outputs": [
    {
     "data": {
      "text/html": [
       "<div>\n",
       "<style>\n",
       "    .dataframe thead tr:only-child th {\n",
       "        text-align: right;\n",
       "    }\n",
       "\n",
       "    .dataframe thead th {\n",
       "        text-align: left;\n",
       "    }\n",
       "\n",
       "    .dataframe tbody tr th {\n",
       "        vertical-align: top;\n",
       "    }\n",
       "</style>\n",
       "<table border=\"1\" class=\"dataframe\">\n",
       "  <thead>\n",
       "    <tr style=\"text-align: right;\">\n",
       "      <th></th>\n",
       "      <th>Id</th>\n",
       "      <th>MSSubClass</th>\n",
       "      <th>MSZoning</th>\n",
       "      <th>LotFrontage</th>\n",
       "      <th>LotArea</th>\n",
       "      <th>Street</th>\n",
       "      <th>Alley</th>\n",
       "      <th>LotShape</th>\n",
       "      <th>LandContour</th>\n",
       "      <th>Utilities</th>\n",
       "      <th>...</th>\n",
       "      <th>PoolArea</th>\n",
       "      <th>PoolQC</th>\n",
       "      <th>Fence</th>\n",
       "      <th>MiscFeature</th>\n",
       "      <th>MiscVal</th>\n",
       "      <th>MoSold</th>\n",
       "      <th>YrSold</th>\n",
       "      <th>SaleType</th>\n",
       "      <th>SaleCondition</th>\n",
       "      <th>SalePrice</th>\n",
       "    </tr>\n",
       "  </thead>\n",
       "  <tbody>\n",
       "    <tr>\n",
       "      <th>0</th>\n",
       "      <td>1</td>\n",
       "      <td>60</td>\n",
       "      <td>RL</td>\n",
       "      <td>65.0</td>\n",
       "      <td>8450</td>\n",
       "      <td>Pave</td>\n",
       "      <td>NaN</td>\n",
       "      <td>Reg</td>\n",
       "      <td>Lvl</td>\n",
       "      <td>AllPub</td>\n",
       "      <td>...</td>\n",
       "      <td>0</td>\n",
       "      <td>NaN</td>\n",
       "      <td>NaN</td>\n",
       "      <td>NaN</td>\n",
       "      <td>0</td>\n",
       "      <td>2</td>\n",
       "      <td>2008</td>\n",
       "      <td>WD</td>\n",
       "      <td>Normal</td>\n",
       "      <td>208500</td>\n",
       "    </tr>\n",
       "    <tr>\n",
       "      <th>1</th>\n",
       "      <td>2</td>\n",
       "      <td>20</td>\n",
       "      <td>RL</td>\n",
       "      <td>80.0</td>\n",
       "      <td>9600</td>\n",
       "      <td>Pave</td>\n",
       "      <td>NaN</td>\n",
       "      <td>Reg</td>\n",
       "      <td>Lvl</td>\n",
       "      <td>AllPub</td>\n",
       "      <td>...</td>\n",
       "      <td>0</td>\n",
       "      <td>NaN</td>\n",
       "      <td>NaN</td>\n",
       "      <td>NaN</td>\n",
       "      <td>0</td>\n",
       "      <td>5</td>\n",
       "      <td>2007</td>\n",
       "      <td>WD</td>\n",
       "      <td>Normal</td>\n",
       "      <td>181500</td>\n",
       "    </tr>\n",
       "    <tr>\n",
       "      <th>2</th>\n",
       "      <td>3</td>\n",
       "      <td>60</td>\n",
       "      <td>RL</td>\n",
       "      <td>68.0</td>\n",
       "      <td>11250</td>\n",
       "      <td>Pave</td>\n",
       "      <td>NaN</td>\n",
       "      <td>IR1</td>\n",
       "      <td>Lvl</td>\n",
       "      <td>AllPub</td>\n",
       "      <td>...</td>\n",
       "      <td>0</td>\n",
       "      <td>NaN</td>\n",
       "      <td>NaN</td>\n",
       "      <td>NaN</td>\n",
       "      <td>0</td>\n",
       "      <td>9</td>\n",
       "      <td>2008</td>\n",
       "      <td>WD</td>\n",
       "      <td>Normal</td>\n",
       "      <td>223500</td>\n",
       "    </tr>\n",
       "    <tr>\n",
       "      <th>3</th>\n",
       "      <td>4</td>\n",
       "      <td>70</td>\n",
       "      <td>RL</td>\n",
       "      <td>60.0</td>\n",
       "      <td>9550</td>\n",
       "      <td>Pave</td>\n",
       "      <td>NaN</td>\n",
       "      <td>IR1</td>\n",
       "      <td>Lvl</td>\n",
       "      <td>AllPub</td>\n",
       "      <td>...</td>\n",
       "      <td>0</td>\n",
       "      <td>NaN</td>\n",
       "      <td>NaN</td>\n",
       "      <td>NaN</td>\n",
       "      <td>0</td>\n",
       "      <td>2</td>\n",
       "      <td>2006</td>\n",
       "      <td>WD</td>\n",
       "      <td>Abnorml</td>\n",
       "      <td>140000</td>\n",
       "    </tr>\n",
       "    <tr>\n",
       "      <th>4</th>\n",
       "      <td>5</td>\n",
       "      <td>60</td>\n",
       "      <td>RL</td>\n",
       "      <td>84.0</td>\n",
       "      <td>14260</td>\n",
       "      <td>Pave</td>\n",
       "      <td>NaN</td>\n",
       "      <td>IR1</td>\n",
       "      <td>Lvl</td>\n",
       "      <td>AllPub</td>\n",
       "      <td>...</td>\n",
       "      <td>0</td>\n",
       "      <td>NaN</td>\n",
       "      <td>NaN</td>\n",
       "      <td>NaN</td>\n",
       "      <td>0</td>\n",
       "      <td>12</td>\n",
       "      <td>2008</td>\n",
       "      <td>WD</td>\n",
       "      <td>Normal</td>\n",
       "      <td>250000</td>\n",
       "    </tr>\n",
       "  </tbody>\n",
       "</table>\n",
       "<p>5 rows × 81 columns</p>\n",
       "</div>"
      ],
      "text/plain": [
       "   Id  MSSubClass MSZoning  LotFrontage  LotArea Street Alley LotShape  \\\n",
       "0   1          60       RL         65.0     8450   Pave   NaN      Reg   \n",
       "1   2          20       RL         80.0     9600   Pave   NaN      Reg   \n",
       "2   3          60       RL         68.0    11250   Pave   NaN      IR1   \n",
       "3   4          70       RL         60.0     9550   Pave   NaN      IR1   \n",
       "4   5          60       RL         84.0    14260   Pave   NaN      IR1   \n",
       "\n",
       "  LandContour Utilities    ...     PoolArea PoolQC Fence MiscFeature MiscVal  \\\n",
       "0         Lvl    AllPub    ...            0    NaN   NaN         NaN       0   \n",
       "1         Lvl    AllPub    ...            0    NaN   NaN         NaN       0   \n",
       "2         Lvl    AllPub    ...            0    NaN   NaN         NaN       0   \n",
       "3         Lvl    AllPub    ...            0    NaN   NaN         NaN       0   \n",
       "4         Lvl    AllPub    ...            0    NaN   NaN         NaN       0   \n",
       "\n",
       "  MoSold YrSold  SaleType  SaleCondition  SalePrice  \n",
       "0      2   2008        WD         Normal     208500  \n",
       "1      5   2007        WD         Normal     181500  \n",
       "2      9   2008        WD         Normal     223500  \n",
       "3      2   2006        WD        Abnorml     140000  \n",
       "4     12   2008        WD         Normal     250000  \n",
       "\n",
       "[5 rows x 81 columns]"
      ]
     },
     "execution_count": 22,
     "metadata": {},
     "output_type": "execute_result"
    }
   ],
   "source": [
    "ames.head()"
   ]
  },
  {
   "cell_type": "code",
   "execution_count": 23,
   "metadata": {},
   "outputs": [
    {
     "name": "stdout",
     "output_type": "stream",
     "text": [
      "<class 'pandas.core.frame.DataFrame'>\n",
      "RangeIndex: 1460 entries, 0 to 1459\n",
      "Data columns (total 81 columns):\n",
      "Id               1460 non-null int64\n",
      "MSSubClass       1460 non-null int64\n",
      "MSZoning         1460 non-null object\n",
      "LotFrontage      1201 non-null float64\n",
      "LotArea          1460 non-null int64\n",
      "Street           1460 non-null object\n",
      "Alley            91 non-null object\n",
      "LotShape         1460 non-null object\n",
      "LandContour      1460 non-null object\n",
      "Utilities        1460 non-null object\n",
      "LotConfig        1460 non-null object\n",
      "LandSlope        1460 non-null object\n",
      "Neighborhood     1460 non-null object\n",
      "Condition1       1460 non-null object\n",
      "Condition2       1460 non-null object\n",
      "BldgType         1460 non-null object\n",
      "HouseStyle       1460 non-null object\n",
      "OverallQual      1460 non-null int64\n",
      "OverallCond      1460 non-null int64\n",
      "YearBuilt        1460 non-null int64\n",
      "YearRemodAdd     1460 non-null int64\n",
      "RoofStyle        1460 non-null object\n",
      "RoofMatl         1460 non-null object\n",
      "Exterior1st      1460 non-null object\n",
      "Exterior2nd      1460 non-null object\n",
      "MasVnrType       1452 non-null object\n",
      "MasVnrArea       1452 non-null float64\n",
      "ExterQual        1460 non-null object\n",
      "ExterCond        1460 non-null object\n",
      "Foundation       1460 non-null object\n",
      "BsmtQual         1423 non-null object\n",
      "BsmtCond         1423 non-null object\n",
      "BsmtExposure     1422 non-null object\n",
      "BsmtFinType1     1423 non-null object\n",
      "BsmtFinSF1       1460 non-null int64\n",
      "BsmtFinType2     1422 non-null object\n",
      "BsmtFinSF2       1460 non-null int64\n",
      "BsmtUnfSF        1460 non-null int64\n",
      "TotalBsmtSF      1460 non-null int64\n",
      "Heating          1460 non-null object\n",
      "HeatingQC        1460 non-null object\n",
      "CentralAir       1460 non-null object\n",
      "Electrical       1459 non-null object\n",
      "1stFlrSF         1460 non-null int64\n",
      "2ndFlrSF         1460 non-null int64\n",
      "LowQualFinSF     1460 non-null int64\n",
      "GrLivArea        1460 non-null int64\n",
      "BsmtFullBath     1460 non-null int64\n",
      "BsmtHalfBath     1460 non-null int64\n",
      "FullBath         1460 non-null int64\n",
      "HalfBath         1460 non-null int64\n",
      "BedroomAbvGr     1460 non-null int64\n",
      "KitchenAbvGr     1460 non-null int64\n",
      "KitchenQual      1460 non-null object\n",
      "TotRmsAbvGrd     1460 non-null int64\n",
      "Functional       1460 non-null object\n",
      "Fireplaces       1460 non-null int64\n",
      "FireplaceQu      770 non-null object\n",
      "GarageType       1379 non-null object\n",
      "GarageYrBlt      1379 non-null float64\n",
      "GarageFinish     1379 non-null object\n",
      "GarageCars       1460 non-null int64\n",
      "GarageArea       1460 non-null int64\n",
      "GarageQual       1379 non-null object\n",
      "GarageCond       1379 non-null object\n",
      "PavedDrive       1460 non-null object\n",
      "WoodDeckSF       1460 non-null int64\n",
      "OpenPorchSF      1460 non-null int64\n",
      "EnclosedPorch    1460 non-null int64\n",
      "3SsnPorch        1460 non-null int64\n",
      "ScreenPorch      1460 non-null int64\n",
      "PoolArea         1460 non-null int64\n",
      "PoolQC           7 non-null object\n",
      "Fence            281 non-null object\n",
      "MiscFeature      54 non-null object\n",
      "MiscVal          1460 non-null int64\n",
      "MoSold           1460 non-null int64\n",
      "YrSold           1460 non-null int64\n",
      "SaleType         1460 non-null object\n",
      "SaleCondition    1460 non-null object\n",
      "SalePrice        1460 non-null int64\n",
      "dtypes: float64(3), int64(35), object(43)\n",
      "memory usage: 924.0+ KB\n"
     ]
    }
   ],
   "source": [
    "ames.info()"
   ]
  },
  {
   "cell_type": "code",
   "execution_count": 24,
   "metadata": {},
   "outputs": [
    {
     "data": {
      "text/plain": [
       "Grvl    50\n",
       "Pave    41\n",
       "Name: Alley, dtype: int64"
      ]
     },
     "execution_count": 24,
     "metadata": {},
     "output_type": "execute_result"
    }
   ],
   "source": [
    "ames['Alley'].value_counts()"
   ]
  },
  {
   "cell_type": "code",
   "execution_count": 25,
   "metadata": {
    "collapsed": true
   },
   "outputs": [],
   "source": [
    "ames['Alley'] = ames['Alley'].fillna(\"None\")"
   ]
  },
  {
   "cell_type": "code",
   "execution_count": 26,
   "metadata": {},
   "outputs": [
    {
     "data": {
      "text/plain": [
       "Gd    380\n",
       "TA    313\n",
       "Fa     33\n",
       "Ex     24\n",
       "Po     20\n",
       "Name: FireplaceQu, dtype: int64"
      ]
     },
     "execution_count": 26,
     "metadata": {},
     "output_type": "execute_result"
    }
   ],
   "source": [
    "ames['FireplaceQu'].value_counts()"
   ]
  },
  {
   "cell_type": "code",
   "execution_count": 27,
   "metadata": {
    "collapsed": true
   },
   "outputs": [],
   "source": [
    "ames['FireplaceQu'] = ames['FireplaceQu'].fillna(\"None\")"
   ]
  },
  {
   "cell_type": "code",
   "execution_count": 65,
   "metadata": {},
   "outputs": [],
   "source": [
    "ames['MiscFeature'] = ames['MiscFeature'].fillna(\"None\")"
   ]
  },
  {
   "cell_type": "code",
   "execution_count": 66,
   "metadata": {},
   "outputs": [
    {
     "data": {
      "text/plain": [
       "Jun    253\n",
       "Jul    234\n",
       "May    204\n",
       "Apr    141\n",
       "Aug    122\n",
       "Mar    106\n",
       "Oct     89\n",
       "Nov     79\n",
       "Sep     63\n",
       "Dec     59\n",
       "Jan     58\n",
       "Feb     52\n",
       "Name: MoSold, dtype: int64"
      ]
     },
     "execution_count": 66,
     "metadata": {},
     "output_type": "execute_result"
    }
   ],
   "source": [
    "ames['MoSold'].value_counts()"
   ]
  },
  {
   "cell_type": "code",
   "execution_count": 67,
   "metadata": {
    "collapsed": true
   },
   "outputs": [],
   "source": [
    "ames = ames.replace({\"MoSold\": {1: 'Jan', 2: 'Feb', 3:'Mar', 4:'Apr', 5:'May',\n",
    "                                6:'Jun', 7:'Jul', 8:'Aug', 9:'Sep', 10:'Oct', 11:'Nov', 12:'Dec'}})"
   ]
  },
  {
   "cell_type": "code",
   "execution_count": 83,
   "metadata": {},
   "outputs": [
    {
     "name": "stdout",
     "output_type": "stream",
     "text": [
      "object\n"
     ]
    },
    {
     "data": {
      "text/plain": [
       "0       2003\n",
       "1       1976\n",
       "2       2001\n",
       "3       1915\n",
       "4       2000\n",
       "5       1993\n",
       "6       2004\n",
       "7       1973\n",
       "8       1931\n",
       "9       1939\n",
       "10      1965\n",
       "11      2005\n",
       "12      1962\n",
       "13      2006\n",
       "14      1960\n",
       "15      1929\n",
       "16      1970\n",
       "17      1967\n",
       "18      2004\n",
       "19      1958\n",
       "20      2005\n",
       "21      1930\n",
       "22      2002\n",
       "23      1976\n",
       "24      1968\n",
       "25      2007\n",
       "26      1951\n",
       "27      2007\n",
       "28      1957\n",
       "29      1927\n",
       "        ... \n",
       "1430    2005\n",
       "1431    1976\n",
       "1432    1927\n",
       "1433    2000\n",
       "1434    1977\n",
       "1435    1962\n",
       "1436    1971\n",
       "1437    2008\n",
       "1438    1957\n",
       "1439    1979\n",
       "1440    1922\n",
       "1441    2004\n",
       "1442    2008\n",
       "1443    1916\n",
       "1444    2004\n",
       "1445    1966\n",
       "1446    1962\n",
       "1447    1995\n",
       "1448    1910\n",
       "1449    1970\n",
       "1450    1974\n",
       "1451    2008\n",
       "1452    2005\n",
       "1453    2006\n",
       "1454    2004\n",
       "1455    1999\n",
       "1456    1978\n",
       "1457    1941\n",
       "1458    1950\n",
       "1459    1965\n",
       "Name: YearBuilt, Length: 1460, dtype: object"
      ]
     },
     "execution_count": 83,
     "metadata": {},
     "output_type": "execute_result"
    }
   ],
   "source": [
    "print(ames.MoSold.dtype)\n",
    "ames['YearBuilt'].astype(str)"
   ]
  },
  {
   "cell_type": "code",
   "execution_count": 86,
   "metadata": {},
   "outputs": [],
   "source": [
    "ames[['YearBuilt', 'YrSold', 'YearRemodAdd']] = ames[['YearBuilt', 'YrSold', 'YearRemodAdd']].astype(str)"
   ]
  },
  {
   "cell_type": "code",
   "execution_count": 61,
   "metadata": {
    "collapsed": true
   },
   "outputs": [],
   "source": [
    "ames = ames.replace({\"LotShape\": {'Reg':4, 'IR1':3, 'IR2':2, 'IR1':1}})\n",
    "ames = ames.replace({\"Utilities\": {'AllPub':4, 'NoSewr':3, 'NoSeWa':2, 'ELO':1}})\n",
    "ames = ames.replace({\"LandSlope\": {'Gtl':3, 'Mod':2, 'Sev':1}})"
   ]
  },
  {
   "cell_type": "code",
   "execution_count": 64,
   "metadata": {},
   "outputs": [
    {
     "name": "stdout",
     "output_type": "stream",
     "text": [
      "int64\n"
     ]
    }
   ],
   "source": [
    "print(ames.YearBuilt.dtype)"
   ]
  },
  {
   "cell_type": "code",
   "execution_count": 43,
   "metadata": {},
   "outputs": [],
   "source": [
    "ames.MSSubClass = ames.MSSubClass.asobject"
   ]
  },
  {
   "cell_type": "code",
   "execution_count": 59,
   "metadata": {},
   "outputs": [
    {
     "data": {
      "text/plain": [
       "Id                 int64\n",
       "MSSubClass        object\n",
       "MSZoning          object\n",
       "LotFrontage      float64\n",
       "LotArea            int64\n",
       "Street            object\n",
       "Alley             object\n",
       "LotShape          object\n",
       "LandContour       object\n",
       "Utilities         object\n",
       "LotConfig         object\n",
       "LandSlope         object\n",
       "Neighborhood      object\n",
       "Condition1        object\n",
       "Condition2        object\n",
       "BldgType          object\n",
       "HouseStyle        object\n",
       "OverallQual        int64\n",
       "OverallCond        int64\n",
       "YearBuilt          int64\n",
       "YearRemodAdd       int64\n",
       "RoofStyle         object\n",
       "RoofMatl          object\n",
       "Exterior1st       object\n",
       "Exterior2nd       object\n",
       "MasVnrType        object\n",
       "MasVnrArea       float64\n",
       "ExterQual         object\n",
       "ExterCond         object\n",
       "Foundation        object\n",
       "                  ...   \n",
       "BedroomAbvGr       int64\n",
       "KitchenAbvGr       int64\n",
       "KitchenQual       object\n",
       "TotRmsAbvGrd       int64\n",
       "Functional        object\n",
       "Fireplaces         int64\n",
       "FireplaceQu       object\n",
       "GarageType        object\n",
       "GarageYrBlt      float64\n",
       "GarageFinish      object\n",
       "GarageCars         int64\n",
       "GarageArea         int64\n",
       "GarageQual        object\n",
       "GarageCond        object\n",
       "PavedDrive        object\n",
       "WoodDeckSF         int64\n",
       "OpenPorchSF        int64\n",
       "EnclosedPorch      int64\n",
       "3SsnPorch          int64\n",
       "ScreenPorch        int64\n",
       "PoolArea           int64\n",
       "PoolQC            object\n",
       "Fence             object\n",
       "MiscFeature       object\n",
       "MiscVal            int64\n",
       "MoSold            object\n",
       "YrSold             int64\n",
       "SaleType          object\n",
       "SaleCondition     object\n",
       "SalePrice          int64\n",
       "Length: 81, dtype: object"
      ]
     },
     "execution_count": 59,
     "metadata": {},
     "output_type": "execute_result"
    }
   ],
   "source": [
    "ames.YrSold = ames.YrSold.asobject\n"
   ]
  },
  {
   "cell_type": "markdown",
   "metadata": {},
   "source": [
    "### Based on the data documentation, Lot Frontage seems like a meaningful feature, and 200 properties without values seems like too many to drop.  Further, since each record has a meaningful value for the \"street\" column, it doesn't seem appropriate to fill LotFrontage with 0s.  Mean/Median seems to be the best way to go.   "
   ]
  },
  {
   "cell_type": "code",
   "execution_count": 53,
   "metadata": {},
   "outputs": [
    {
     "data": {
      "application/javascript": [
       "/* Put everything inside the global mpl namespace */\n",
       "window.mpl = {};\n",
       "\n",
       "\n",
       "mpl.get_websocket_type = function() {\n",
       "    if (typeof(WebSocket) !== 'undefined') {\n",
       "        return WebSocket;\n",
       "    } else if (typeof(MozWebSocket) !== 'undefined') {\n",
       "        return MozWebSocket;\n",
       "    } else {\n",
       "        alert('Your browser does not have WebSocket support.' +\n",
       "              'Please try Chrome, Safari or Firefox ≥ 6. ' +\n",
       "              'Firefox 4 and 5 are also supported but you ' +\n",
       "              'have to enable WebSockets in about:config.');\n",
       "    };\n",
       "}\n",
       "\n",
       "mpl.figure = function(figure_id, websocket, ondownload, parent_element) {\n",
       "    this.id = figure_id;\n",
       "\n",
       "    this.ws = websocket;\n",
       "\n",
       "    this.supports_binary = (this.ws.binaryType != undefined);\n",
       "\n",
       "    if (!this.supports_binary) {\n",
       "        var warnings = document.getElementById(\"mpl-warnings\");\n",
       "        if (warnings) {\n",
       "            warnings.style.display = 'block';\n",
       "            warnings.textContent = (\n",
       "                \"This browser does not support binary websocket messages. \" +\n",
       "                    \"Performance may be slow.\");\n",
       "        }\n",
       "    }\n",
       "\n",
       "    this.imageObj = new Image();\n",
       "\n",
       "    this.context = undefined;\n",
       "    this.message = undefined;\n",
       "    this.canvas = undefined;\n",
       "    this.rubberband_canvas = undefined;\n",
       "    this.rubberband_context = undefined;\n",
       "    this.format_dropdown = undefined;\n",
       "\n",
       "    this.image_mode = 'full';\n",
       "\n",
       "    this.root = $('<div/>');\n",
       "    this._root_extra_style(this.root)\n",
       "    this.root.attr('style', 'display: inline-block');\n",
       "\n",
       "    $(parent_element).append(this.root);\n",
       "\n",
       "    this._init_header(this);\n",
       "    this._init_canvas(this);\n",
       "    this._init_toolbar(this);\n",
       "\n",
       "    var fig = this;\n",
       "\n",
       "    this.waiting = false;\n",
       "\n",
       "    this.ws.onopen =  function () {\n",
       "            fig.send_message(\"supports_binary\", {value: fig.supports_binary});\n",
       "            fig.send_message(\"send_image_mode\", {});\n",
       "            if (mpl.ratio != 1) {\n",
       "                fig.send_message(\"set_dpi_ratio\", {'dpi_ratio': mpl.ratio});\n",
       "            }\n",
       "            fig.send_message(\"refresh\", {});\n",
       "        }\n",
       "\n",
       "    this.imageObj.onload = function() {\n",
       "            if (fig.image_mode == 'full') {\n",
       "                // Full images could contain transparency (where diff images\n",
       "                // almost always do), so we need to clear the canvas so that\n",
       "                // there is no ghosting.\n",
       "                fig.context.clearRect(0, 0, fig.canvas.width, fig.canvas.height);\n",
       "            }\n",
       "            fig.context.drawImage(fig.imageObj, 0, 0);\n",
       "        };\n",
       "\n",
       "    this.imageObj.onunload = function() {\n",
       "        this.ws.close();\n",
       "    }\n",
       "\n",
       "    this.ws.onmessage = this._make_on_message_function(this);\n",
       "\n",
       "    this.ondownload = ondownload;\n",
       "}\n",
       "\n",
       "mpl.figure.prototype._init_header = function() {\n",
       "    var titlebar = $(\n",
       "        '<div class=\"ui-dialog-titlebar ui-widget-header ui-corner-all ' +\n",
       "        'ui-helper-clearfix\"/>');\n",
       "    var titletext = $(\n",
       "        '<div class=\"ui-dialog-title\" style=\"width: 100%; ' +\n",
       "        'text-align: center; padding: 3px;\"/>');\n",
       "    titlebar.append(titletext)\n",
       "    this.root.append(titlebar);\n",
       "    this.header = titletext[0];\n",
       "}\n",
       "\n",
       "\n",
       "\n",
       "mpl.figure.prototype._canvas_extra_style = function(canvas_div) {\n",
       "\n",
       "}\n",
       "\n",
       "\n",
       "mpl.figure.prototype._root_extra_style = function(canvas_div) {\n",
       "\n",
       "}\n",
       "\n",
       "mpl.figure.prototype._init_canvas = function() {\n",
       "    var fig = this;\n",
       "\n",
       "    var canvas_div = $('<div/>');\n",
       "\n",
       "    canvas_div.attr('style', 'position: relative; clear: both; outline: 0');\n",
       "\n",
       "    function canvas_keyboard_event(event) {\n",
       "        return fig.key_event(event, event['data']);\n",
       "    }\n",
       "\n",
       "    canvas_div.keydown('key_press', canvas_keyboard_event);\n",
       "    canvas_div.keyup('key_release', canvas_keyboard_event);\n",
       "    this.canvas_div = canvas_div\n",
       "    this._canvas_extra_style(canvas_div)\n",
       "    this.root.append(canvas_div);\n",
       "\n",
       "    var canvas = $('<canvas/>');\n",
       "    canvas.addClass('mpl-canvas');\n",
       "    canvas.attr('style', \"left: 0; top: 0; z-index: 0; outline: 0\")\n",
       "\n",
       "    this.canvas = canvas[0];\n",
       "    this.context = canvas[0].getContext(\"2d\");\n",
       "\n",
       "    var backingStore = this.context.backingStorePixelRatio ||\n",
       "\tthis.context.webkitBackingStorePixelRatio ||\n",
       "\tthis.context.mozBackingStorePixelRatio ||\n",
       "\tthis.context.msBackingStorePixelRatio ||\n",
       "\tthis.context.oBackingStorePixelRatio ||\n",
       "\tthis.context.backingStorePixelRatio || 1;\n",
       "\n",
       "    mpl.ratio = (window.devicePixelRatio || 1) / backingStore;\n",
       "\n",
       "    var rubberband = $('<canvas/>');\n",
       "    rubberband.attr('style', \"position: absolute; left: 0; top: 0; z-index: 1;\")\n",
       "\n",
       "    var pass_mouse_events = true;\n",
       "\n",
       "    canvas_div.resizable({\n",
       "        start: function(event, ui) {\n",
       "            pass_mouse_events = false;\n",
       "        },\n",
       "        resize: function(event, ui) {\n",
       "            fig.request_resize(ui.size.width, ui.size.height);\n",
       "        },\n",
       "        stop: function(event, ui) {\n",
       "            pass_mouse_events = true;\n",
       "            fig.request_resize(ui.size.width, ui.size.height);\n",
       "        },\n",
       "    });\n",
       "\n",
       "    function mouse_event_fn(event) {\n",
       "        if (pass_mouse_events)\n",
       "            return fig.mouse_event(event, event['data']);\n",
       "    }\n",
       "\n",
       "    rubberband.mousedown('button_press', mouse_event_fn);\n",
       "    rubberband.mouseup('button_release', mouse_event_fn);\n",
       "    // Throttle sequential mouse events to 1 every 20ms.\n",
       "    rubberband.mousemove('motion_notify', mouse_event_fn);\n",
       "\n",
       "    rubberband.mouseenter('figure_enter', mouse_event_fn);\n",
       "    rubberband.mouseleave('figure_leave', mouse_event_fn);\n",
       "\n",
       "    canvas_div.on(\"wheel\", function (event) {\n",
       "        event = event.originalEvent;\n",
       "        event['data'] = 'scroll'\n",
       "        if (event.deltaY < 0) {\n",
       "            event.step = 1;\n",
       "        } else {\n",
       "            event.step = -1;\n",
       "        }\n",
       "        mouse_event_fn(event);\n",
       "    });\n",
       "\n",
       "    canvas_div.append(canvas);\n",
       "    canvas_div.append(rubberband);\n",
       "\n",
       "    this.rubberband = rubberband;\n",
       "    this.rubberband_canvas = rubberband[0];\n",
       "    this.rubberband_context = rubberband[0].getContext(\"2d\");\n",
       "    this.rubberband_context.strokeStyle = \"#000000\";\n",
       "\n",
       "    this._resize_canvas = function(width, height) {\n",
       "        // Keep the size of the canvas, canvas container, and rubber band\n",
       "        // canvas in synch.\n",
       "        canvas_div.css('width', width)\n",
       "        canvas_div.css('height', height)\n",
       "\n",
       "        canvas.attr('width', width * mpl.ratio);\n",
       "        canvas.attr('height', height * mpl.ratio);\n",
       "        canvas.attr('style', 'width: ' + width + 'px; height: ' + height + 'px;');\n",
       "\n",
       "        rubberband.attr('width', width);\n",
       "        rubberband.attr('height', height);\n",
       "    }\n",
       "\n",
       "    // Set the figure to an initial 600x600px, this will subsequently be updated\n",
       "    // upon first draw.\n",
       "    this._resize_canvas(600, 600);\n",
       "\n",
       "    // Disable right mouse context menu.\n",
       "    $(this.rubberband_canvas).bind(\"contextmenu\",function(e){\n",
       "        return false;\n",
       "    });\n",
       "\n",
       "    function set_focus () {\n",
       "        canvas.focus();\n",
       "        canvas_div.focus();\n",
       "    }\n",
       "\n",
       "    window.setTimeout(set_focus, 100);\n",
       "}\n",
       "\n",
       "mpl.figure.prototype._init_toolbar = function() {\n",
       "    var fig = this;\n",
       "\n",
       "    var nav_element = $('<div/>')\n",
       "    nav_element.attr('style', 'width: 100%');\n",
       "    this.root.append(nav_element);\n",
       "\n",
       "    // Define a callback function for later on.\n",
       "    function toolbar_event(event) {\n",
       "        return fig.toolbar_button_onclick(event['data']);\n",
       "    }\n",
       "    function toolbar_mouse_event(event) {\n",
       "        return fig.toolbar_button_onmouseover(event['data']);\n",
       "    }\n",
       "\n",
       "    for(var toolbar_ind in mpl.toolbar_items) {\n",
       "        var name = mpl.toolbar_items[toolbar_ind][0];\n",
       "        var tooltip = mpl.toolbar_items[toolbar_ind][1];\n",
       "        var image = mpl.toolbar_items[toolbar_ind][2];\n",
       "        var method_name = mpl.toolbar_items[toolbar_ind][3];\n",
       "\n",
       "        if (!name) {\n",
       "            // put a spacer in here.\n",
       "            continue;\n",
       "        }\n",
       "        var button = $('<button/>');\n",
       "        button.addClass('ui-button ui-widget ui-state-default ui-corner-all ' +\n",
       "                        'ui-button-icon-only');\n",
       "        button.attr('role', 'button');\n",
       "        button.attr('aria-disabled', 'false');\n",
       "        button.click(method_name, toolbar_event);\n",
       "        button.mouseover(tooltip, toolbar_mouse_event);\n",
       "\n",
       "        var icon_img = $('<span/>');\n",
       "        icon_img.addClass('ui-button-icon-primary ui-icon');\n",
       "        icon_img.addClass(image);\n",
       "        icon_img.addClass('ui-corner-all');\n",
       "\n",
       "        var tooltip_span = $('<span/>');\n",
       "        tooltip_span.addClass('ui-button-text');\n",
       "        tooltip_span.html(tooltip);\n",
       "\n",
       "        button.append(icon_img);\n",
       "        button.append(tooltip_span);\n",
       "\n",
       "        nav_element.append(button);\n",
       "    }\n",
       "\n",
       "    var fmt_picker_span = $('<span/>');\n",
       "\n",
       "    var fmt_picker = $('<select/>');\n",
       "    fmt_picker.addClass('mpl-toolbar-option ui-widget ui-widget-content');\n",
       "    fmt_picker_span.append(fmt_picker);\n",
       "    nav_element.append(fmt_picker_span);\n",
       "    this.format_dropdown = fmt_picker[0];\n",
       "\n",
       "    for (var ind in mpl.extensions) {\n",
       "        var fmt = mpl.extensions[ind];\n",
       "        var option = $(\n",
       "            '<option/>', {selected: fmt === mpl.default_extension}).html(fmt);\n",
       "        fmt_picker.append(option)\n",
       "    }\n",
       "\n",
       "    // Add hover states to the ui-buttons\n",
       "    $( \".ui-button\" ).hover(\n",
       "        function() { $(this).addClass(\"ui-state-hover\");},\n",
       "        function() { $(this).removeClass(\"ui-state-hover\");}\n",
       "    );\n",
       "\n",
       "    var status_bar = $('<span class=\"mpl-message\"/>');\n",
       "    nav_element.append(status_bar);\n",
       "    this.message = status_bar[0];\n",
       "}\n",
       "\n",
       "mpl.figure.prototype.request_resize = function(x_pixels, y_pixels) {\n",
       "    // Request matplotlib to resize the figure. Matplotlib will then trigger a resize in the client,\n",
       "    // which will in turn request a refresh of the image.\n",
       "    this.send_message('resize', {'width': x_pixels, 'height': y_pixels});\n",
       "}\n",
       "\n",
       "mpl.figure.prototype.send_message = function(type, properties) {\n",
       "    properties['type'] = type;\n",
       "    properties['figure_id'] = this.id;\n",
       "    this.ws.send(JSON.stringify(properties));\n",
       "}\n",
       "\n",
       "mpl.figure.prototype.send_draw_message = function() {\n",
       "    if (!this.waiting) {\n",
       "        this.waiting = true;\n",
       "        this.ws.send(JSON.stringify({type: \"draw\", figure_id: this.id}));\n",
       "    }\n",
       "}\n",
       "\n",
       "\n",
       "mpl.figure.prototype.handle_save = function(fig, msg) {\n",
       "    var format_dropdown = fig.format_dropdown;\n",
       "    var format = format_dropdown.options[format_dropdown.selectedIndex].value;\n",
       "    fig.ondownload(fig, format);\n",
       "}\n",
       "\n",
       "\n",
       "mpl.figure.prototype.handle_resize = function(fig, msg) {\n",
       "    var size = msg['size'];\n",
       "    if (size[0] != fig.canvas.width || size[1] != fig.canvas.height) {\n",
       "        fig._resize_canvas(size[0], size[1]);\n",
       "        fig.send_message(\"refresh\", {});\n",
       "    };\n",
       "}\n",
       "\n",
       "mpl.figure.prototype.handle_rubberband = function(fig, msg) {\n",
       "    var x0 = msg['x0'] / mpl.ratio;\n",
       "    var y0 = (fig.canvas.height - msg['y0']) / mpl.ratio;\n",
       "    var x1 = msg['x1'] / mpl.ratio;\n",
       "    var y1 = (fig.canvas.height - msg['y1']) / mpl.ratio;\n",
       "    x0 = Math.floor(x0) + 0.5;\n",
       "    y0 = Math.floor(y0) + 0.5;\n",
       "    x1 = Math.floor(x1) + 0.5;\n",
       "    y1 = Math.floor(y1) + 0.5;\n",
       "    var min_x = Math.min(x0, x1);\n",
       "    var min_y = Math.min(y0, y1);\n",
       "    var width = Math.abs(x1 - x0);\n",
       "    var height = Math.abs(y1 - y0);\n",
       "\n",
       "    fig.rubberband_context.clearRect(\n",
       "        0, 0, fig.canvas.width, fig.canvas.height);\n",
       "\n",
       "    fig.rubberband_context.strokeRect(min_x, min_y, width, height);\n",
       "}\n",
       "\n",
       "mpl.figure.prototype.handle_figure_label = function(fig, msg) {\n",
       "    // Updates the figure title.\n",
       "    fig.header.textContent = msg['label'];\n",
       "}\n",
       "\n",
       "mpl.figure.prototype.handle_cursor = function(fig, msg) {\n",
       "    var cursor = msg['cursor'];\n",
       "    switch(cursor)\n",
       "    {\n",
       "    case 0:\n",
       "        cursor = 'pointer';\n",
       "        break;\n",
       "    case 1:\n",
       "        cursor = 'default';\n",
       "        break;\n",
       "    case 2:\n",
       "        cursor = 'crosshair';\n",
       "        break;\n",
       "    case 3:\n",
       "        cursor = 'move';\n",
       "        break;\n",
       "    }\n",
       "    fig.rubberband_canvas.style.cursor = cursor;\n",
       "}\n",
       "\n",
       "mpl.figure.prototype.handle_message = function(fig, msg) {\n",
       "    fig.message.textContent = msg['message'];\n",
       "}\n",
       "\n",
       "mpl.figure.prototype.handle_draw = function(fig, msg) {\n",
       "    // Request the server to send over a new figure.\n",
       "    fig.send_draw_message();\n",
       "}\n",
       "\n",
       "mpl.figure.prototype.handle_image_mode = function(fig, msg) {\n",
       "    fig.image_mode = msg['mode'];\n",
       "}\n",
       "\n",
       "mpl.figure.prototype.updated_canvas_event = function() {\n",
       "    // Called whenever the canvas gets updated.\n",
       "    this.send_message(\"ack\", {});\n",
       "}\n",
       "\n",
       "// A function to construct a web socket function for onmessage handling.\n",
       "// Called in the figure constructor.\n",
       "mpl.figure.prototype._make_on_message_function = function(fig) {\n",
       "    return function socket_on_message(evt) {\n",
       "        if (evt.data instanceof Blob) {\n",
       "            /* FIXME: We get \"Resource interpreted as Image but\n",
       "             * transferred with MIME type text/plain:\" errors on\n",
       "             * Chrome.  But how to set the MIME type?  It doesn't seem\n",
       "             * to be part of the websocket stream */\n",
       "            evt.data.type = \"image/png\";\n",
       "\n",
       "            /* Free the memory for the previous frames */\n",
       "            if (fig.imageObj.src) {\n",
       "                (window.URL || window.webkitURL).revokeObjectURL(\n",
       "                    fig.imageObj.src);\n",
       "            }\n",
       "\n",
       "            fig.imageObj.src = (window.URL || window.webkitURL).createObjectURL(\n",
       "                evt.data);\n",
       "            fig.updated_canvas_event();\n",
       "            fig.waiting = false;\n",
       "            return;\n",
       "        }\n",
       "        else if (typeof evt.data === 'string' && evt.data.slice(0, 21) == \"data:image/png;base64\") {\n",
       "            fig.imageObj.src = evt.data;\n",
       "            fig.updated_canvas_event();\n",
       "            fig.waiting = false;\n",
       "            return;\n",
       "        }\n",
       "\n",
       "        var msg = JSON.parse(evt.data);\n",
       "        var msg_type = msg['type'];\n",
       "\n",
       "        // Call the  \"handle_{type}\" callback, which takes\n",
       "        // the figure and JSON message as its only arguments.\n",
       "        try {\n",
       "            var callback = fig[\"handle_\" + msg_type];\n",
       "        } catch (e) {\n",
       "            console.log(\"No handler for the '\" + msg_type + \"' message type: \", msg);\n",
       "            return;\n",
       "        }\n",
       "\n",
       "        if (callback) {\n",
       "            try {\n",
       "                // console.log(\"Handling '\" + msg_type + \"' message: \", msg);\n",
       "                callback(fig, msg);\n",
       "            } catch (e) {\n",
       "                console.log(\"Exception inside the 'handler_\" + msg_type + \"' callback:\", e, e.stack, msg);\n",
       "            }\n",
       "        }\n",
       "    };\n",
       "}\n",
       "\n",
       "// from http://stackoverflow.com/questions/1114465/getting-mouse-location-in-canvas\n",
       "mpl.findpos = function(e) {\n",
       "    //this section is from http://www.quirksmode.org/js/events_properties.html\n",
       "    var targ;\n",
       "    if (!e)\n",
       "        e = window.event;\n",
       "    if (e.target)\n",
       "        targ = e.target;\n",
       "    else if (e.srcElement)\n",
       "        targ = e.srcElement;\n",
       "    if (targ.nodeType == 3) // defeat Safari bug\n",
       "        targ = targ.parentNode;\n",
       "\n",
       "    // jQuery normalizes the pageX and pageY\n",
       "    // pageX,Y are the mouse positions relative to the document\n",
       "    // offset() returns the position of the element relative to the document\n",
       "    var x = e.pageX - $(targ).offset().left;\n",
       "    var y = e.pageY - $(targ).offset().top;\n",
       "\n",
       "    return {\"x\": x, \"y\": y};\n",
       "};\n",
       "\n",
       "/*\n",
       " * return a copy of an object with only non-object keys\n",
       " * we need this to avoid circular references\n",
       " * http://stackoverflow.com/a/24161582/3208463\n",
       " */\n",
       "function simpleKeys (original) {\n",
       "  return Object.keys(original).reduce(function (obj, key) {\n",
       "    if (typeof original[key] !== 'object')\n",
       "        obj[key] = original[key]\n",
       "    return obj;\n",
       "  }, {});\n",
       "}\n",
       "\n",
       "mpl.figure.prototype.mouse_event = function(event, name) {\n",
       "    var canvas_pos = mpl.findpos(event)\n",
       "\n",
       "    if (name === 'button_press')\n",
       "    {\n",
       "        this.canvas.focus();\n",
       "        this.canvas_div.focus();\n",
       "    }\n",
       "\n",
       "    var x = canvas_pos.x * mpl.ratio;\n",
       "    var y = canvas_pos.y * mpl.ratio;\n",
       "\n",
       "    this.send_message(name, {x: x, y: y, button: event.button,\n",
       "                             step: event.step,\n",
       "                             guiEvent: simpleKeys(event)});\n",
       "\n",
       "    /* This prevents the web browser from automatically changing to\n",
       "     * the text insertion cursor when the button is pressed.  We want\n",
       "     * to control all of the cursor setting manually through the\n",
       "     * 'cursor' event from matplotlib */\n",
       "    event.preventDefault();\n",
       "    return false;\n",
       "}\n",
       "\n",
       "mpl.figure.prototype._key_event_extra = function(event, name) {\n",
       "    // Handle any extra behaviour associated with a key event\n",
       "}\n",
       "\n",
       "mpl.figure.prototype.key_event = function(event, name) {\n",
       "\n",
       "    // Prevent repeat events\n",
       "    if (name == 'key_press')\n",
       "    {\n",
       "        if (event.which === this._key)\n",
       "            return;\n",
       "        else\n",
       "            this._key = event.which;\n",
       "    }\n",
       "    if (name == 'key_release')\n",
       "        this._key = null;\n",
       "\n",
       "    var value = '';\n",
       "    if (event.ctrlKey && event.which != 17)\n",
       "        value += \"ctrl+\";\n",
       "    if (event.altKey && event.which != 18)\n",
       "        value += \"alt+\";\n",
       "    if (event.shiftKey && event.which != 16)\n",
       "        value += \"shift+\";\n",
       "\n",
       "    value += 'k';\n",
       "    value += event.which.toString();\n",
       "\n",
       "    this._key_event_extra(event, name);\n",
       "\n",
       "    this.send_message(name, {key: value,\n",
       "                             guiEvent: simpleKeys(event)});\n",
       "    return false;\n",
       "}\n",
       "\n",
       "mpl.figure.prototype.toolbar_button_onclick = function(name) {\n",
       "    if (name == 'download') {\n",
       "        this.handle_save(this, null);\n",
       "    } else {\n",
       "        this.send_message(\"toolbar_button\", {name: name});\n",
       "    }\n",
       "};\n",
       "\n",
       "mpl.figure.prototype.toolbar_button_onmouseover = function(tooltip) {\n",
       "    this.message.textContent = tooltip;\n",
       "};\n",
       "mpl.toolbar_items = [[\"Home\", \"Reset original view\", \"fa fa-home icon-home\", \"home\"], [\"Back\", \"Back to  previous view\", \"fa fa-arrow-left icon-arrow-left\", \"back\"], [\"Forward\", \"Forward to next view\", \"fa fa-arrow-right icon-arrow-right\", \"forward\"], [\"\", \"\", \"\", \"\"], [\"Pan\", \"Pan axes with left mouse, zoom with right\", \"fa fa-arrows icon-move\", \"pan\"], [\"Zoom\", \"Zoom to rectangle\", \"fa fa-square-o icon-check-empty\", \"zoom\"], [\"\", \"\", \"\", \"\"], [\"Download\", \"Download plot\", \"fa fa-floppy-o icon-save\", \"download\"]];\n",
       "\n",
       "mpl.extensions = [\"eps\", \"jpeg\", \"pdf\", \"png\", \"ps\", \"raw\", \"svg\", \"tif\"];\n",
       "\n",
       "mpl.default_extension = \"png\";var comm_websocket_adapter = function(comm) {\n",
       "    // Create a \"websocket\"-like object which calls the given IPython comm\n",
       "    // object with the appropriate methods. Currently this is a non binary\n",
       "    // socket, so there is still some room for performance tuning.\n",
       "    var ws = {};\n",
       "\n",
       "    ws.close = function() {\n",
       "        comm.close()\n",
       "    };\n",
       "    ws.send = function(m) {\n",
       "        //console.log('sending', m);\n",
       "        comm.send(m);\n",
       "    };\n",
       "    // Register the callback with on_msg.\n",
       "    comm.on_msg(function(msg) {\n",
       "        //console.log('receiving', msg['content']['data'], msg);\n",
       "        // Pass the mpl event to the overriden (by mpl) onmessage function.\n",
       "        ws.onmessage(msg['content']['data'])\n",
       "    });\n",
       "    return ws;\n",
       "}\n",
       "\n",
       "mpl.mpl_figure_comm = function(comm, msg) {\n",
       "    // This is the function which gets called when the mpl process\n",
       "    // starts-up an IPython Comm through the \"matplotlib\" channel.\n",
       "\n",
       "    var id = msg.content.data.id;\n",
       "    // Get hold of the div created by the display call when the Comm\n",
       "    // socket was opened in Python.\n",
       "    var element = $(\"#\" + id);\n",
       "    var ws_proxy = comm_websocket_adapter(comm)\n",
       "\n",
       "    function ondownload(figure, format) {\n",
       "        window.open(figure.imageObj.src);\n",
       "    }\n",
       "\n",
       "    var fig = new mpl.figure(id, ws_proxy,\n",
       "                           ondownload,\n",
       "                           element.get(0));\n",
       "\n",
       "    // Call onopen now - mpl needs it, as it is assuming we've passed it a real\n",
       "    // web socket which is closed, not our websocket->open comm proxy.\n",
       "    ws_proxy.onopen();\n",
       "\n",
       "    fig.parent_element = element.get(0);\n",
       "    fig.cell_info = mpl.find_output_cell(\"<div id='\" + id + \"'></div>\");\n",
       "    if (!fig.cell_info) {\n",
       "        console.error(\"Failed to find cell for figure\", id, fig);\n",
       "        return;\n",
       "    }\n",
       "\n",
       "    var output_index = fig.cell_info[2]\n",
       "    var cell = fig.cell_info[0];\n",
       "\n",
       "};\n",
       "\n",
       "mpl.figure.prototype.handle_close = function(fig, msg) {\n",
       "    var width = fig.canvas.width/mpl.ratio\n",
       "    fig.root.unbind('remove')\n",
       "\n",
       "    // Update the output cell to use the data from the current canvas.\n",
       "    fig.push_to_output();\n",
       "    var dataURL = fig.canvas.toDataURL();\n",
       "    // Re-enable the keyboard manager in IPython - without this line, in FF,\n",
       "    // the notebook keyboard shortcuts fail.\n",
       "    IPython.keyboard_manager.enable()\n",
       "    $(fig.parent_element).html('<img src=\"' + dataURL + '\" width=\"' + width + '\">');\n",
       "    fig.close_ws(fig, msg);\n",
       "}\n",
       "\n",
       "mpl.figure.prototype.close_ws = function(fig, msg){\n",
       "    fig.send_message('closing', msg);\n",
       "    // fig.ws.close()\n",
       "}\n",
       "\n",
       "mpl.figure.prototype.push_to_output = function(remove_interactive) {\n",
       "    // Turn the data on the canvas into data in the output cell.\n",
       "    var width = this.canvas.width/mpl.ratio\n",
       "    var dataURL = this.canvas.toDataURL();\n",
       "    this.cell_info[1]['text/html'] = '<img src=\"' + dataURL + '\" width=\"' + width + '\">';\n",
       "}\n",
       "\n",
       "mpl.figure.prototype.updated_canvas_event = function() {\n",
       "    // Tell IPython that the notebook contents must change.\n",
       "    IPython.notebook.set_dirty(true);\n",
       "    this.send_message(\"ack\", {});\n",
       "    var fig = this;\n",
       "    // Wait a second, then push the new image to the DOM so\n",
       "    // that it is saved nicely (might be nice to debounce this).\n",
       "    setTimeout(function () { fig.push_to_output() }, 1000);\n",
       "}\n",
       "\n",
       "mpl.figure.prototype._init_toolbar = function() {\n",
       "    var fig = this;\n",
       "\n",
       "    var nav_element = $('<div/>')\n",
       "    nav_element.attr('style', 'width: 100%');\n",
       "    this.root.append(nav_element);\n",
       "\n",
       "    // Define a callback function for later on.\n",
       "    function toolbar_event(event) {\n",
       "        return fig.toolbar_button_onclick(event['data']);\n",
       "    }\n",
       "    function toolbar_mouse_event(event) {\n",
       "        return fig.toolbar_button_onmouseover(event['data']);\n",
       "    }\n",
       "\n",
       "    for(var toolbar_ind in mpl.toolbar_items){\n",
       "        var name = mpl.toolbar_items[toolbar_ind][0];\n",
       "        var tooltip = mpl.toolbar_items[toolbar_ind][1];\n",
       "        var image = mpl.toolbar_items[toolbar_ind][2];\n",
       "        var method_name = mpl.toolbar_items[toolbar_ind][3];\n",
       "\n",
       "        if (!name) { continue; };\n",
       "\n",
       "        var button = $('<button class=\"btn btn-default\" href=\"#\" title=\"' + name + '\"><i class=\"fa ' + image + ' fa-lg\"></i></button>');\n",
       "        button.click(method_name, toolbar_event);\n",
       "        button.mouseover(tooltip, toolbar_mouse_event);\n",
       "        nav_element.append(button);\n",
       "    }\n",
       "\n",
       "    // Add the status bar.\n",
       "    var status_bar = $('<span class=\"mpl-message\" style=\"text-align:right; float: right;\"/>');\n",
       "    nav_element.append(status_bar);\n",
       "    this.message = status_bar[0];\n",
       "\n",
       "    // Add the close button to the window.\n",
       "    var buttongrp = $('<div class=\"btn-group inline pull-right\"></div>');\n",
       "    var button = $('<button class=\"btn btn-mini btn-primary\" href=\"#\" title=\"Stop Interaction\"><i class=\"fa fa-power-off icon-remove icon-large\"></i></button>');\n",
       "    button.click(function (evt) { fig.handle_close(fig, {}); } );\n",
       "    button.mouseover('Stop Interaction', toolbar_mouse_event);\n",
       "    buttongrp.append(button);\n",
       "    var titlebar = this.root.find($('.ui-dialog-titlebar'));\n",
       "    titlebar.prepend(buttongrp);\n",
       "}\n",
       "\n",
       "mpl.figure.prototype._root_extra_style = function(el){\n",
       "    var fig = this\n",
       "    el.on(\"remove\", function(){\n",
       "\tfig.close_ws(fig, {});\n",
       "    });\n",
       "}\n",
       "\n",
       "mpl.figure.prototype._canvas_extra_style = function(el){\n",
       "    // this is important to make the div 'focusable\n",
       "    el.attr('tabindex', 0)\n",
       "    // reach out to IPython and tell the keyboard manager to turn it's self\n",
       "    // off when our div gets focus\n",
       "\n",
       "    // location in version 3\n",
       "    if (IPython.notebook.keyboard_manager) {\n",
       "        IPython.notebook.keyboard_manager.register_events(el);\n",
       "    }\n",
       "    else {\n",
       "        // location in version 2\n",
       "        IPython.keyboard_manager.register_events(el);\n",
       "    }\n",
       "\n",
       "}\n",
       "\n",
       "mpl.figure.prototype._key_event_extra = function(event, name) {\n",
       "    var manager = IPython.notebook.keyboard_manager;\n",
       "    if (!manager)\n",
       "        manager = IPython.keyboard_manager;\n",
       "\n",
       "    // Check for shift+enter\n",
       "    if (event.shiftKey && event.which == 13) {\n",
       "        this.canvas_div.blur();\n",
       "        // select the cell after this one\n",
       "        var index = IPython.notebook.find_cell_index(this.cell_info[0]);\n",
       "        IPython.notebook.select(index + 1);\n",
       "    }\n",
       "}\n",
       "\n",
       "mpl.figure.prototype.handle_save = function(fig, msg) {\n",
       "    fig.ondownload(fig, null);\n",
       "}\n",
       "\n",
       "\n",
       "mpl.find_output_cell = function(html_output) {\n",
       "    // Return the cell and output element which can be found *uniquely* in the notebook.\n",
       "    // Note - this is a bit hacky, but it is done because the \"notebook_saving.Notebook\"\n",
       "    // IPython event is triggered only after the cells have been serialised, which for\n",
       "    // our purposes (turning an active figure into a static one), is too late.\n",
       "    var cells = IPython.notebook.get_cells();\n",
       "    var ncells = cells.length;\n",
       "    for (var i=0; i<ncells; i++) {\n",
       "        var cell = cells[i];\n",
       "        if (cell.cell_type === 'code'){\n",
       "            for (var j=0; j<cell.output_area.outputs.length; j++) {\n",
       "                var data = cell.output_area.outputs[j];\n",
       "                if (data.data) {\n",
       "                    // IPython >= 3 moved mimebundle to data attribute of output\n",
       "                    data = data.data;\n",
       "                }\n",
       "                if (data['text/html'] == html_output) {\n",
       "                    return [cell, data, j];\n",
       "                }\n",
       "            }\n",
       "        }\n",
       "    }\n",
       "}\n",
       "\n",
       "// Register the function which deals with the matplotlib target/channel.\n",
       "// The kernel may be null if the page has been refreshed.\n",
       "if (IPython.notebook.kernel != null) {\n",
       "    IPython.notebook.kernel.comm_manager.register_target('matplotlib', mpl.mpl_figure_comm);\n",
       "}\n"
      ],
      "text/plain": [
       "<IPython.core.display.Javascript object>"
      ]
     },
     "metadata": {},
     "output_type": "display_data"
    },
    {
     "data": {
      "text/html": [
       "<img src=\"data:image/png;base64,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\" width=\"800\">"
      ],
      "text/plain": [
       "<IPython.core.display.HTML object>"
      ]
     },
     "metadata": {},
     "output_type": "display_data"
    },
    {
     "data": {
      "text/plain": [
       "<matplotlib.axes._subplots.AxesSubplot at 0x1b4ed5d8ef0>"
      ]
     },
     "execution_count": 53,
     "metadata": {},
     "output_type": "execute_result"
    }
   ],
   "source": [
    "sns.boxplot(ames.LotFrontage)"
   ]
  },
  {
   "cell_type": "code",
   "execution_count": 54,
   "metadata": {},
   "outputs": [
    {
     "name": "stdout",
     "output_type": "stream",
     "text": [
      "Mean= 70.04995836802642 Median= 70.04995836802665\n"
     ]
    }
   ],
   "source": [
    "print(\"Mean=\",ames.LotFrontage.mean(),\"Median=\", ames.LotFrontage.median())\n"
   ]
  },
  {
   "cell_type": "code",
   "execution_count": 52,
   "metadata": {},
   "outputs": [],
   "source": [
    "ames.LotFrontage = ames.LotFrontage.fillna(ames.LotFrontage.mean())"
   ]
  },
  {
   "cell_type": "markdown",
   "metadata": {},
   "source": [
    "Note the existence of a number of ordinal data points.  We can encode these to follow the data dictionary. https://ww2.amstat.org/publications/jse/v19n3/decock/datadocumentation.txt"
   ]
  },
  {
   "cell_type": "code",
   "execution_count": 25,
   "metadata": {
    "collapsed": true
   },
   "outputs": [],
   "source": [
    "ames = ames.replace({\"BsmtCond\": {\"No\": 0, \"Po\": 1, \"Fa\": 2, \"TA\": 3, \"Gd\": 4, \"Ex\": 5}})"
   ]
  },
  {
   "cell_type": "code",
   "execution_count": 26,
   "metadata": {},
   "outputs": [
    {
     "data": {
      "text/plain": [
       "3.0    1311\n",
       "4.0      65\n",
       "2.0      45\n",
       "1.0       2\n",
       "Name: BsmtCond, dtype: int64"
      ]
     },
     "execution_count": 26,
     "metadata": {},
     "output_type": "execute_result"
    }
   ],
   "source": [
    "ames['BsmtCond'].value_counts()"
   ]
  },
  {
   "cell_type": "code",
   "execution_count": 27,
   "metadata": {
    "collapsed": true
   },
   "outputs": [],
   "source": [
    "ames = ames.replace({\"BsmtQual\" : {\"No\" : 0, \"Po\" : 1, \"Fa\" : 2, \"TA\": 3, \"Gd\" : 4, \"Ex\" : 5}})"
   ]
  },
  {
   "cell_type": "code",
   "execution_count": 28,
   "metadata": {},
   "outputs": [
    {
     "data": {
      "text/plain": [
       "3.0    649\n",
       "4.0    618\n",
       "5.0    121\n",
       "2.0     35\n",
       "Name: BsmtQual, dtype: int64"
      ]
     },
     "execution_count": 28,
     "metadata": {},
     "output_type": "execute_result"
    }
   ],
   "source": [
    "ames['BsmtQual'].value_counts()"
   ]
  },
  {
   "cell_type": "markdown",
   "metadata": {},
   "source": [
    "**PROBLEMS**\n",
    "\n",
    "Continue to code a few more columns and make sure to replace any `na` values in at least:\n",
    "\n",
    "- `OverallQual`\n",
    "- `OverallCond`\n",
    "- `GarageQual`\n",
    "- `GarageCond`\n",
    "- `PoolArea`\n",
    "- `PoolQC`"
   ]
  },
  {
   "cell_type": "code",
   "execution_count": 29,
   "metadata": {
    "collapsed": true
   },
   "outputs": [],
   "source": [
    "ames = ames.replace({\"BsmtQual\" : {1: \"isntgood\"}})"
   ]
  },
  {
   "cell_type": "code",
   "execution_count": 38,
   "metadata": {},
   "outputs": [
    {
     "data": {
      "text/plain": [
       "Gd    3\n",
       "Ex    2\n",
       "Fa    2\n",
       "Name: PoolQC, dtype: int64"
      ]
     },
     "execution_count": 38,
     "metadata": {},
     "output_type": "execute_result"
    }
   ],
   "source": [
    "ames['PoolQC'].value_counts()"
   ]
  },
  {
   "cell_type": "code",
   "execution_count": 56,
   "metadata": {
    "collapsed": true
   },
   "outputs": [],
   "source": [
    "ames = ames.replace({\"GarageQual\" : {\"None\": 0, \"No\" : 0, \"Po\" : 1, \"Fa\" : 2, \"TA\": 3, \"Gd\" : 4, \"Ex\" : 5}})"
   ]
  },
  {
   "cell_type": "code",
   "execution_count": 57,
   "metadata": {
    "collapsed": true
   },
   "outputs": [],
   "source": [
    "ames = ames.replace({\"GarageCond\" : {\"None\" : 0, \"No\" : 0, \"Po\" : 1, \"Fa\" : 2, \"TA\": 3, \"Gd\" : 4, \"Ex\" : 5}})"
   ]
  },
  {
   "cell_type": "code",
   "execution_count": 71,
   "metadata": {},
   "outputs": [
    {
     "data": {
      "text/plain": [
       "0    1453\n",
       "4       3\n",
       "5       2\n",
       "2       2\n",
       "Name: PoolQC, dtype: int64"
      ]
     },
     "execution_count": 71,
     "metadata": {},
     "output_type": "execute_result"
    }
   ],
   "source": [
    "ames.PoolQC.value_counts()"
   ]
  },
  {
   "cell_type": "code",
   "execution_count": 58,
   "metadata": {
    "collapsed": true
   },
   "outputs": [],
   "source": [
    "ames = ames.replace({\"PoolQC\" : {\"None\" : 0, \"No\" : 0, \"Po\" : 1, \"Fa\" : 2, \"TA\": 3, \"Gd\" : 4, \"Ex\" : 5}})"
   ]
  },
  {
   "cell_type": "code",
   "execution_count": 55,
   "metadata": {
    "collapsed": true
   },
   "outputs": [],
   "source": [
    "ames['PoolArea'] = ames['PoolArea'].fillna(\"None\")"
   ]
  },
  {
   "cell_type": "code",
   "execution_count": 49,
   "metadata": {},
   "outputs": [
    {
     "data": {
      "text/plain": [
       "count     1460.0\n",
       "unique       6.0\n",
       "top          3.0\n",
       "freq      1311.0\n",
       "Name: GarageQual, dtype: float64"
      ]
     },
     "execution_count": 49,
     "metadata": {},
     "output_type": "execute_result"
    }
   ],
   "source": [
    "ames['GarageQual'] = ames['GarageQual'].fillna(\"None\")\n",
    "ames['GarageQual'].describe()"
   ]
  },
  {
   "cell_type": "code",
   "execution_count": 54,
   "metadata": {},
   "outputs": [
    {
     "data": {
      "text/plain": [
       "count     1460.0\n",
       "unique       6.0\n",
       "top          3.0\n",
       "freq      1326.0\n",
       "Name: GarageCond, dtype: float64"
      ]
     },
     "execution_count": 54,
     "metadata": {},
     "output_type": "execute_result"
    }
   ],
   "source": [
    "ames.GarageCond= ames.GarageCond.fillna(\"None\")\n",
    "ames.GarageCond.describe()"
   ]
  },
  {
   "cell_type": "markdown",
   "metadata": {},
   "source": [
    "### Adding New Features\n",
    "\n",
    "We can create many new features to help improve our models performance.  For example, any of the measures that have multiple categories could be combined.  Take `Overall`, `Garage`, and `Pool` for example.  We can create combinations of the subcolumns as follows."
   ]
  },
  {
   "cell_type": "code",
   "execution_count": null,
   "metadata": {
    "collapsed": true
   },
   "outputs": [],
   "source": [
    "ames['BasementOverall'] = ames['BsmtCond'] * ames['BsmtQual']"
   ]
  },
  {
   "cell_type": "code",
   "execution_count": 72,
   "metadata": {
    "collapsed": true
   },
   "outputs": [],
   "source": [
    "ames['PoolOverall'] = ames['PoolArea'] * ames['PoolQC']"
   ]
  },
  {
   "cell_type": "code",
   "execution_count": 76,
   "metadata": {},
   "outputs": [
    {
     "data": {
      "text/plain": [
       "count    1460.000000\n",
       "mean        1.767123\n",
       "std         0.747315\n",
       "min         0.000000\n",
       "25%         1.000000\n",
       "50%         2.000000\n",
       "75%         2.000000\n",
       "max         4.000000\n",
       "Name: GarageCars, dtype: float64"
      ]
     },
     "execution_count": 76,
     "metadata": {},
     "output_type": "execute_result"
    }
   ],
   "source": [
    "ames['GarageCars'].describe()"
   ]
  },
  {
   "cell_type": "code",
   "execution_count": 78,
   "metadata": {
    "collapsed": true
   },
   "outputs": [],
   "source": [
    "ames['GarageOverall'] = ames['GarageCond'] * ames['GarageArea'] * ames['GarageCars']"
   ]
  },
  {
   "cell_type": "code",
   "execution_count": 85,
   "metadata": {},
   "outputs": [
    {
     "data": {
      "text/plain": [
       "array([548, 460, 608, ..., 252, 240, 276], dtype=int64)"
      ]
     },
     "execution_count": 85,
     "metadata": {},
     "output_type": "execute_result"
    }
   ],
   "source": [
    "ames['GarageArea'].values"
   ]
  },
  {
   "cell_type": "code",
   "execution_count": null,
   "metadata": {
    "collapsed": true
   },
   "outputs": [],
   "source": []
  },
  {
   "cell_type": "markdown",
   "metadata": {},
   "source": [
    "**PROBLEMS**\n",
    "\n",
    "\n",
    "Continue to add additional features that combine other existing ones in a sensible way.  Here are a few additional ideas:\n",
    "\n",
    "```python\n",
    "ames['OverallGrade'] = ames['OverallQual'] * ames['OverallCond']\n",
    "ames['GarageOverall'] = ames['GarageQual'] * ames['GarageCond']\n",
    "ames['PoolOverall'] = ames['PoolArea'] * ames['PoolQC']\n",
    "```\n",
    "\n",
    "Be sure you've coded these as numeric vectors before creating columns based on arithmetic involving them.  Finally, make sure you can succinctly carry out and communicate these transformations.  Take all of your numerical columns and investigate their correlation with our target sales."
   ]
  },
  {
   "cell_type": "code",
   "execution_count": null,
   "metadata": {
    "collapsed": true
   },
   "outputs": [],
   "source": []
  },
  {
   "cell_type": "code",
   "execution_count": null,
   "metadata": {
    "collapsed": true
   },
   "outputs": [],
   "source": []
  },
  {
   "cell_type": "code",
   "execution_count": null,
   "metadata": {
    "collapsed": true
   },
   "outputs": [],
   "source": []
  },
  {
   "cell_type": "code",
   "execution_count": null,
   "metadata": {
    "collapsed": true
   },
   "outputs": [],
   "source": []
  },
  {
   "cell_type": "markdown",
   "metadata": {},
   "source": [
    "**PROBLEM**\n",
    "\n",
    "Using the `sklearn` implementation of `LinearRegression()`, create a test and train set from your housing data.  To begin, fit a linear model on the **Logarithm** of the sales column with the `GrLivArea` feature.  Use this as your baseline to compare your transformations to.  \n",
    "\n",
    "Include the transformations from above into a second linear model and try it out on the test set. Did the performance improve with your adjustments and transformations? \n",
    "\n",
    "Add polynomial features into the mix and see if you can get better improvement still."
   ]
  },
  {
   "cell_type": "code",
   "execution_count": null,
   "metadata": {
    "collapsed": true
   },
   "outputs": [],
   "source": []
  },
  {
   "cell_type": "code",
   "execution_count": null,
   "metadata": {
    "collapsed": true
   },
   "outputs": [],
   "source": []
  },
  {
   "cell_type": "code",
   "execution_count": null,
   "metadata": {
    "collapsed": true
   },
   "outputs": [],
   "source": []
  },
  {
   "cell_type": "code",
   "execution_count": null,
   "metadata": {
    "collapsed": true
   },
   "outputs": [],
   "source": []
  },
  {
   "cell_type": "code",
   "execution_count": null,
   "metadata": {
    "collapsed": true
   },
   "outputs": [],
   "source": []
  },
  {
   "cell_type": "code",
   "execution_count": null,
   "metadata": {
    "collapsed": true
   },
   "outputs": [],
   "source": []
  },
  {
   "cell_type": "code",
   "execution_count": null,
   "metadata": {
    "collapsed": true
   },
   "outputs": [],
   "source": []
  },
  {
   "cell_type": "code",
   "execution_count": null,
   "metadata": {
    "collapsed": true
   },
   "outputs": [],
   "source": []
  }
 ],
 "metadata": {
  "kernelspec": {
   "display_name": "Python 3",
   "language": "python",
   "name": "python3"
  },
  "language_info": {
   "codemirror_mode": {
    "name": "ipython",
    "version": 3
   },
   "file_extension": ".py",
   "mimetype": "text/x-python",
   "name": "python",
   "nbconvert_exporter": "python",
   "pygments_lexer": "ipython3",
   "version": "3.6.1"
  }
 },
 "nbformat": 4,
 "nbformat_minor": 2
}
