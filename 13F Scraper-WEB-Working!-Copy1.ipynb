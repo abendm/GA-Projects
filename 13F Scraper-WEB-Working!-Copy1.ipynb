{
 "cells": [
  {
   "cell_type": "code",
   "execution_count": 1,
   "metadata": {},
   "outputs": [],
   "source": [
    "import requests\n",
    "import time\n",
    "from bs4 import BeautifulSoup\n",
    "import pandas as pd"
   ]
  },
  {
   "cell_type": "markdown",
   "metadata": {},
   "source": [
    "## The below two code cells:\n",
    "\n",
    "- Takes a list of Central Index Keys (\"CIK\"), which are numeric identifiers that identify a particular SEC filing entity.\n",
    "\n",
    "\n",
    "- Uses the CIK to construct a  URL that identifies a company's \"13F-HR\" filings, which contain the data of interest.\n",
    "     \n",
    "     - The first part of the URL, \"url_first\" has the root of the URL and expects a CIK\n",
    "     - The CIK identifies the company\n",
    "     - url_second specifies the \"type\" of filing as \"13F-HR' and supplies other necessary parameters, such as a count of the number of rows to show.\n",
    "     \n",
    "\n",
    "## Some additional notes:\n",
    "- I originally had a three-part url designed to pull more filings, but it caused errors and ended up being unnecessary since all of the filings of interest for each company appeared on the first page.  This is because prior to 2013, the filings were made in plain .txt files.\n",
    "\n",
    "    - If I wanted to expand upon this project, I would need to pull in _all_ filings, which would require cutomizing a function to read the text filings as well as some error checking on the first cell below that pulls in all of the \"doclink\" values.\n",
    "    \n",
    "    \n",
    "- I imported the time module and added `time.sleep()` calls to force the requesting part of the loop to wait between requests so as not to spam the SEC."
   ]
  },
  {
   "cell_type": "code",
   "execution_count": 2,
   "metadata": {
    "scrolled": false
   },
   "outputs": [],
   "source": [
    "### DON'T MESS WITH THIS CELL -- IT IS FINE\n",
    "url_first = 'https://www.sec.gov/cgi-bin/browse-edgar?action=getcompany&CIK='\n",
    "url_second = '&type=13F-HR%25&dateb=&owner=exclude&start=0&count=40'\n",
    "CIK = ['0001167483']\n",
    "doclink = []\n",
    "\n",
    "df = pd.DataFrame(columns=['manager', 'filing_date', 'report_date', 'sh_name', 'sh_class', 'cusip', 'val1000', 'share_count', \n",
    "                                 'share_or_prin', 'discretion','sole_vote_amt', 'shared_vote_amt'])\n",
    "\n",
    "pos_df= pd.DataFrame(columns=['manager', 'filing_date', 'report_date', 'sh_name', 'sh_class', 'cusip', 'val1000', 'share_count', \n",
    "                                 'share_or_prin', 'discretion','sole_vote_amt', 'shared_vote_amt'])\n",
    "sh_name = []\n",
    "sh_class = []\n",
    "cusip = []\n",
    "val1000 = []\n",
    "share_count = []\n",
    "share_or_prin = []\n",
    "discretion = []\n",
    "sole_vote_amt = []\n",
    "shared_vote_amt = []\n",
    "mgr = []\n",
    "filing_date = []\n",
    "report_date = []\n",
    "\n",
    "        \n",
    "\n",
    "                "
   ]
  },
  {
   "cell_type": "markdown",
   "metadata": {},
   "source": [
    "### verify=False only on  in the \"requests\" calls below for when I run this at PDT.  Sean Ramos couldn't figure out how to get Anaconda to play nicely with our certs."
   ]
  },
  {
   "cell_type": "markdown",
   "metadata": {},
   "source": [
    "## I'm pretty sure the cell below does what I want it to, which is go through and grab the documents link for every filing labled \"13F-HR\".\n",
    "\n",
    "- I'm aware that my \"for row\" loop is probably very inelegant and inefficient.\n",
    "\n",
    "## I viewed `sorted(doclink)` and it appears to be working, but my error _could_ be in this cell too, if I'm grabbing the same doclink more than once."
   ]
  },
  {
   "cell_type": "code",
   "execution_count": 5,
   "metadata": {},
   "outputs": [
    {
     "name": "stderr",
     "output_type": "stream",
     "text": [
      "C:\\Users\\maxabend\\AppData\\Local\\conda\\conda\\envs\\maxabend\\lib\\site-packages\\urllib3\\connectionpool.py:857: InsecureRequestWarning: Unverified HTTPS request is being made. Adding certificate verification is strongly advised. See: https://urllib3.readthedocs.io/en/latest/advanced-usage.html#ssl-warnings\n",
      "  InsecureRequestWarning)\n"
     ]
    }
   ],
   "source": [
    "CIK = ['0001167483']\n",
    "for cik in CIK:\n",
    "    url = url_first+cik+url_second\n",
    "    time.sleep(.33)\n",
    "    response = requests.get(url, verify=False)\n",
    "    soup = BeautifulSoup(response.text, 'lxml')\n",
    "    mgr_name = str.strip(soup.find('span', {'class': 'companyName'}).text.split('CIK')[0])\n",
    "    file_table = soup.find('table', {'class':'tableFile2'})\n",
    "    rows = file_table.find_all('tr')\n",
    "\n",
    "    for row in rows:\n",
    "        cells = row.find_all('td')\n",
    "        for cell in cells[0:1]:\n",
    "            if cells[0].text == '13F-HR':\n",
    "                doclink.append(cells[1].find(href=True).get('href'))\n",
    "                    "
   ]
  },
  {
   "cell_type": "code",
   "execution_count": 4,
   "metadata": {},
   "outputs": [
    {
     "data": {
      "text/plain": [
       "['/Archives/edgar/data/1167483/000091957418005626/0000919574-18-005626-index.htm',\n",
       " '/Archives/edgar/data/1167483/000091957418003754/0000919574-18-003754-index.htm',\n",
       " '/Archives/edgar/data/1167483/000091957418001706/0000919574-18-001706-index.htm',\n",
       " '/Archives/edgar/data/1167483/000091957417008069/0000919574-17-008069-index.htm',\n",
       " '/Archives/edgar/data/1167483/000091957417006218/0000919574-17-006218-index.htm',\n",
       " '/Archives/edgar/data/1167483/000091957417004286/0000919574-17-004286-index.htm',\n",
       " '/Archives/edgar/data/1167483/000091957417001974/0000919574-17-001974-index.htm',\n",
       " '/Archives/edgar/data/1167483/000091957416016596/0000919574-16-016596-index.htm',\n",
       " '/Archives/edgar/data/1167483/000091957416014985/0000919574-16-014985-index.htm',\n",
       " '/Archives/edgar/data/1167483/000091957416013223/0000919574-16-013223-index.htm',\n",
       " '/Archives/edgar/data/1167483/000091957416011040/0000919574-16-011040-index.htm',\n",
       " '/Archives/edgar/data/1167483/000091957415008225/0000919574-15-008225-index.htm',\n",
       " '/Archives/edgar/data/1167483/000091957415006282/0000919574-15-006282-index.htm',\n",
       " '/Archives/edgar/data/1167483/000091957415004426/0000919574-15-004426-index.htm',\n",
       " '/Archives/edgar/data/1167483/000091957415002170/0000919574-15-002170-index.htm',\n",
       " '/Archives/edgar/data/1167483/000091957414006596/0000919574-14-006596-index.htm',\n",
       " '/Archives/edgar/data/1167483/000091957414004747/0000919574-14-004747-index.htm',\n",
       " '/Archives/edgar/data/1167483/000091957414003349/0000919574-14-003349-index.htm',\n",
       " '/Archives/edgar/data/1167483/000091957414001717/0000919574-14-001717-index.htm',\n",
       " '/Archives/edgar/data/1167483/000091957413006567/0000919574-13-006567-index.htm',\n",
       " '/Archives/edgar/data/1167483/000091957413005109/0000919574-13-005109-index.htm',\n",
       " '/Archives/edgar/data/1167483/000091957413003513/0000919574-13-003513-index.htm',\n",
       " '/Archives/edgar/data/1167483/000091957413001722/0000919574-13-001722-index.htm',\n",
       " '/Archives/edgar/data/1167483/000091957412006283/0000919574-12-006283-index.htm',\n",
       " '/Archives/edgar/data/1167483/000091957412004888/0000919574-12-004888-index.htm',\n",
       " '/Archives/edgar/data/1167483/000091957412003443/0000919574-12-003443-index.htm',\n",
       " '/Archives/edgar/data/1167483/000091957412001569/0000919574-12-001569-index.htm',\n",
       " '/Archives/edgar/data/1167483/000091957411006190/0000919574-11-006190-index.htm',\n",
       " '/Archives/edgar/data/1167483/000091957411004823/0000919574-11-004823-index.htm',\n",
       " '/Archives/edgar/data/1167483/000091957411003375/0000919574-11-003375-index.htm',\n",
       " '/Archives/edgar/data/1167483/000091957411001216/0000919574-11-001216-index.htm',\n",
       " '/Archives/edgar/data/1167483/000091957410006610/0000919574-10-006610-index.htm',\n",
       " '/Archives/edgar/data/1167483/000091957410004879/0000919574-10-004879-index.htm',\n",
       " '/Archives/edgar/data/1167483/000091957410003520/0000919574-10-003520-index.htm',\n",
       " '/Archives/edgar/data/1167483/000091957410001195/0000919574-10-001195-index.htm',\n",
       " '/Archives/edgar/data/1167483/000091957409016351/0000919574-09-016351-index.htm',\n",
       " '/Archives/edgar/data/1167483/000091957409014573/0000919574-09-014573-index.htm',\n",
       " '/Archives/edgar/data/1167483/000091957409010449/0000919574-09-010449-index.htm',\n",
       " '/Archives/edgar/data/1167483/000091957409002858/0000919574-09-002858-index.htm',\n",
       " '/Archives/edgar/data/1167483/000091957408007904/0000919574-08-007904-index.htm']"
      ]
     },
     "execution_count": 4,
     "metadata": {},
     "output_type": "execute_result"
    }
   ],
   "source": [
    "doclink"
   ]
  },
  {
   "cell_type": "markdown",
   "metadata": {},
   "source": [
    "## This cell below is supposed to go through every \"doclink\" grabbed in the cell above and do the following:\n",
    "\n",
    "- Populate the filing date in a list ((i.e., if its a Q1 filing, \"05-15-2018\")\n",
    "- Populate the \"period of report\" (i.e., if its a Q1 filing, \"03-30-2018\")\n",
    "- Populate the name of the company making the filing.\n",
    "- Grab all of the \"infotable.xml\" links, parse them, and store the data in lists\n",
    "\n",
    "## I'm pretty sure that my error is in the \"for cell in cells\" loop.  In all past scraping work I've done I've been able to pull back a single html tag by using an attribute of the given tag type.  Here, I don't really have a good way to do that.  I'm pretty sure that this code is doing bullet 3 above multiple times per \"doclink\""
   ]
  },
  {
   "cell_type": "code",
   "execution_count": 6,
   "metadata": {
    "scrolled": true
   },
   "outputs": [
    {
     "name": "stderr",
     "output_type": "stream",
     "text": [
      "C:\\Users\\maxabend\\AppData\\Local\\conda\\conda\\envs\\maxabend\\lib\\site-packages\\urllib3\\connectionpool.py:857: InsecureRequestWarning: Unverified HTTPS request is being made. Adding certificate verification is strongly advised. See: https://urllib3.readthedocs.io/en/latest/advanced-usage.html#ssl-warnings\n",
      "  InsecureRequestWarning)\n",
      "C:\\Users\\maxabend\\AppData\\Local\\conda\\conda\\envs\\maxabend\\lib\\site-packages\\urllib3\\connectionpool.py:857: InsecureRequestWarning: Unverified HTTPS request is being made. Adding certificate verification is strongly advised. See: https://urllib3.readthedocs.io/en/latest/advanced-usage.html#ssl-warnings\n",
      "  InsecureRequestWarning)\n",
      "C:\\Users\\maxabend\\AppData\\Local\\conda\\conda\\envs\\maxabend\\lib\\site-packages\\urllib3\\connectionpool.py:857: InsecureRequestWarning: Unverified HTTPS request is being made. Adding certificate verification is strongly advised. See: https://urllib3.readthedocs.io/en/latest/advanced-usage.html#ssl-warnings\n",
      "  InsecureRequestWarning)\n",
      "C:\\Users\\maxabend\\AppData\\Local\\conda\\conda\\envs\\maxabend\\lib\\site-packages\\urllib3\\connectionpool.py:857: InsecureRequestWarning: Unverified HTTPS request is being made. Adding certificate verification is strongly advised. See: https://urllib3.readthedocs.io/en/latest/advanced-usage.html#ssl-warnings\n",
      "  InsecureRequestWarning)\n",
      "C:\\Users\\maxabend\\AppData\\Local\\conda\\conda\\envs\\maxabend\\lib\\site-packages\\urllib3\\connectionpool.py:857: InsecureRequestWarning: Unverified HTTPS request is being made. Adding certificate verification is strongly advised. See: https://urllib3.readthedocs.io/en/latest/advanced-usage.html#ssl-warnings\n",
      "  InsecureRequestWarning)\n",
      "C:\\Users\\maxabend\\AppData\\Local\\conda\\conda\\envs\\maxabend\\lib\\site-packages\\urllib3\\connectionpool.py:857: InsecureRequestWarning: Unverified HTTPS request is being made. Adding certificate verification is strongly advised. See: https://urllib3.readthedocs.io/en/latest/advanced-usage.html#ssl-warnings\n",
      "  InsecureRequestWarning)\n",
      "C:\\Users\\maxabend\\AppData\\Local\\conda\\conda\\envs\\maxabend\\lib\\site-packages\\urllib3\\connectionpool.py:857: InsecureRequestWarning: Unverified HTTPS request is being made. Adding certificate verification is strongly advised. See: https://urllib3.readthedocs.io/en/latest/advanced-usage.html#ssl-warnings\n",
      "  InsecureRequestWarning)\n",
      "C:\\Users\\maxabend\\AppData\\Local\\conda\\conda\\envs\\maxabend\\lib\\site-packages\\urllib3\\connectionpool.py:857: InsecureRequestWarning: Unverified HTTPS request is being made. Adding certificate verification is strongly advised. See: https://urllib3.readthedocs.io/en/latest/advanced-usage.html#ssl-warnings\n",
      "  InsecureRequestWarning)\n",
      "C:\\Users\\maxabend\\AppData\\Local\\conda\\conda\\envs\\maxabend\\lib\\site-packages\\urllib3\\connectionpool.py:857: InsecureRequestWarning: Unverified HTTPS request is being made. Adding certificate verification is strongly advised. See: https://urllib3.readthedocs.io/en/latest/advanced-usage.html#ssl-warnings\n",
      "  InsecureRequestWarning)\n",
      "C:\\Users\\maxabend\\AppData\\Local\\conda\\conda\\envs\\maxabend\\lib\\site-packages\\urllib3\\connectionpool.py:857: InsecureRequestWarning: Unverified HTTPS request is being made. Adding certificate verification is strongly advised. See: https://urllib3.readthedocs.io/en/latest/advanced-usage.html#ssl-warnings\n",
      "  InsecureRequestWarning)\n",
      "C:\\Users\\maxabend\\AppData\\Local\\conda\\conda\\envs\\maxabend\\lib\\site-packages\\urllib3\\connectionpool.py:857: InsecureRequestWarning: Unverified HTTPS request is being made. Adding certificate verification is strongly advised. See: https://urllib3.readthedocs.io/en/latest/advanced-usage.html#ssl-warnings\n",
      "  InsecureRequestWarning)\n",
      "C:\\Users\\maxabend\\AppData\\Local\\conda\\conda\\envs\\maxabend\\lib\\site-packages\\urllib3\\connectionpool.py:857: InsecureRequestWarning: Unverified HTTPS request is being made. Adding certificate verification is strongly advised. See: https://urllib3.readthedocs.io/en/latest/advanced-usage.html#ssl-warnings\n",
      "  InsecureRequestWarning)\n",
      "C:\\Users\\maxabend\\AppData\\Local\\conda\\conda\\envs\\maxabend\\lib\\site-packages\\urllib3\\connectionpool.py:857: InsecureRequestWarning: Unverified HTTPS request is being made. Adding certificate verification is strongly advised. See: https://urllib3.readthedocs.io/en/latest/advanced-usage.html#ssl-warnings\n",
      "  InsecureRequestWarning)\n",
      "C:\\Users\\maxabend\\AppData\\Local\\conda\\conda\\envs\\maxabend\\lib\\site-packages\\urllib3\\connectionpool.py:857: InsecureRequestWarning: Unverified HTTPS request is being made. Adding certificate verification is strongly advised. See: https://urllib3.readthedocs.io/en/latest/advanced-usage.html#ssl-warnings\n",
      "  InsecureRequestWarning)\n",
      "C:\\Users\\maxabend\\AppData\\Local\\conda\\conda\\envs\\maxabend\\lib\\site-packages\\urllib3\\connectionpool.py:857: InsecureRequestWarning: Unverified HTTPS request is being made. Adding certificate verification is strongly advised. See: https://urllib3.readthedocs.io/en/latest/advanced-usage.html#ssl-warnings\n",
      "  InsecureRequestWarning)\n",
      "C:\\Users\\maxabend\\AppData\\Local\\conda\\conda\\envs\\maxabend\\lib\\site-packages\\urllib3\\connectionpool.py:857: InsecureRequestWarning: Unverified HTTPS request is being made. Adding certificate verification is strongly advised. See: https://urllib3.readthedocs.io/en/latest/advanced-usage.html#ssl-warnings\n",
      "  InsecureRequestWarning)\n",
      "C:\\Users\\maxabend\\AppData\\Local\\conda\\conda\\envs\\maxabend\\lib\\site-packages\\urllib3\\connectionpool.py:857: InsecureRequestWarning: Unverified HTTPS request is being made. Adding certificate verification is strongly advised. See: https://urllib3.readthedocs.io/en/latest/advanced-usage.html#ssl-warnings\n",
      "  InsecureRequestWarning)\n",
      "C:\\Users\\maxabend\\AppData\\Local\\conda\\conda\\envs\\maxabend\\lib\\site-packages\\urllib3\\connectionpool.py:857: InsecureRequestWarning: Unverified HTTPS request is being made. Adding certificate verification is strongly advised. See: https://urllib3.readthedocs.io/en/latest/advanced-usage.html#ssl-warnings\n",
      "  InsecureRequestWarning)\n",
      "C:\\Users\\maxabend\\AppData\\Local\\conda\\conda\\envs\\maxabend\\lib\\site-packages\\urllib3\\connectionpool.py:857: InsecureRequestWarning: Unverified HTTPS request is being made. Adding certificate verification is strongly advised. See: https://urllib3.readthedocs.io/en/latest/advanced-usage.html#ssl-warnings\n",
      "  InsecureRequestWarning)\n",
      "C:\\Users\\maxabend\\AppData\\Local\\conda\\conda\\envs\\maxabend\\lib\\site-packages\\urllib3\\connectionpool.py:857: InsecureRequestWarning: Unverified HTTPS request is being made. Adding certificate verification is strongly advised. See: https://urllib3.readthedocs.io/en/latest/advanced-usage.html#ssl-warnings\n",
      "  InsecureRequestWarning)\n",
      "C:\\Users\\maxabend\\AppData\\Local\\conda\\conda\\envs\\maxabend\\lib\\site-packages\\urllib3\\connectionpool.py:857: InsecureRequestWarning: Unverified HTTPS request is being made. Adding certificate verification is strongly advised. See: https://urllib3.readthedocs.io/en/latest/advanced-usage.html#ssl-warnings\n",
      "  InsecureRequestWarning)\n",
      "C:\\Users\\maxabend\\AppData\\Local\\conda\\conda\\envs\\maxabend\\lib\\site-packages\\urllib3\\connectionpool.py:857: InsecureRequestWarning: Unverified HTTPS request is being made. Adding certificate verification is strongly advised. See: https://urllib3.readthedocs.io/en/latest/advanced-usage.html#ssl-warnings\n",
      "  InsecureRequestWarning)\n",
      "C:\\Users\\maxabend\\AppData\\Local\\conda\\conda\\envs\\maxabend\\lib\\site-packages\\urllib3\\connectionpool.py:857: InsecureRequestWarning: Unverified HTTPS request is being made. Adding certificate verification is strongly advised. See: https://urllib3.readthedocs.io/en/latest/advanced-usage.html#ssl-warnings\n",
      "  InsecureRequestWarning)\n",
      "C:\\Users\\maxabend\\AppData\\Local\\conda\\conda\\envs\\maxabend\\lib\\site-packages\\urllib3\\connectionpool.py:857: InsecureRequestWarning: Unverified HTTPS request is being made. Adding certificate verification is strongly advised. See: https://urllib3.readthedocs.io/en/latest/advanced-usage.html#ssl-warnings\n",
      "  InsecureRequestWarning)\n",
      "C:\\Users\\maxabend\\AppData\\Local\\conda\\conda\\envs\\maxabend\\lib\\site-packages\\urllib3\\connectionpool.py:857: InsecureRequestWarning: Unverified HTTPS request is being made. Adding certificate verification is strongly advised. See: https://urllib3.readthedocs.io/en/latest/advanced-usage.html#ssl-warnings\n",
      "  InsecureRequestWarning)\n",
      "C:\\Users\\maxabend\\AppData\\Local\\conda\\conda\\envs\\maxabend\\lib\\site-packages\\urllib3\\connectionpool.py:857: InsecureRequestWarning: Unverified HTTPS request is being made. Adding certificate verification is strongly advised. See: https://urllib3.readthedocs.io/en/latest/advanced-usage.html#ssl-warnings\n",
      "  InsecureRequestWarning)\n"
     ]
    },
    {
     "name": "stderr",
     "output_type": "stream",
     "text": [
      "C:\\Users\\maxabend\\AppData\\Local\\conda\\conda\\envs\\maxabend\\lib\\site-packages\\urllib3\\connectionpool.py:857: InsecureRequestWarning: Unverified HTTPS request is being made. Adding certificate verification is strongly advised. See: https://urllib3.readthedocs.io/en/latest/advanced-usage.html#ssl-warnings\n",
      "  InsecureRequestWarning)\n",
      "C:\\Users\\maxabend\\AppData\\Local\\conda\\conda\\envs\\maxabend\\lib\\site-packages\\urllib3\\connectionpool.py:857: InsecureRequestWarning: Unverified HTTPS request is being made. Adding certificate verification is strongly advised. See: https://urllib3.readthedocs.io/en/latest/advanced-usage.html#ssl-warnings\n",
      "  InsecureRequestWarning)\n",
      "C:\\Users\\maxabend\\AppData\\Local\\conda\\conda\\envs\\maxabend\\lib\\site-packages\\urllib3\\connectionpool.py:857: InsecureRequestWarning: Unverified HTTPS request is being made. Adding certificate verification is strongly advised. See: https://urllib3.readthedocs.io/en/latest/advanced-usage.html#ssl-warnings\n",
      "  InsecureRequestWarning)\n",
      "C:\\Users\\maxabend\\AppData\\Local\\conda\\conda\\envs\\maxabend\\lib\\site-packages\\urllib3\\connectionpool.py:857: InsecureRequestWarning: Unverified HTTPS request is being made. Adding certificate verification is strongly advised. See: https://urllib3.readthedocs.io/en/latest/advanced-usage.html#ssl-warnings\n",
      "  InsecureRequestWarning)\n",
      "C:\\Users\\maxabend\\AppData\\Local\\conda\\conda\\envs\\maxabend\\lib\\site-packages\\urllib3\\connectionpool.py:857: InsecureRequestWarning: Unverified HTTPS request is being made. Adding certificate verification is strongly advised. See: https://urllib3.readthedocs.io/en/latest/advanced-usage.html#ssl-warnings\n",
      "  InsecureRequestWarning)\n",
      "C:\\Users\\maxabend\\AppData\\Local\\conda\\conda\\envs\\maxabend\\lib\\site-packages\\urllib3\\connectionpool.py:857: InsecureRequestWarning: Unverified HTTPS request is being made. Adding certificate verification is strongly advised. See: https://urllib3.readthedocs.io/en/latest/advanced-usage.html#ssl-warnings\n",
      "  InsecureRequestWarning)\n",
      "C:\\Users\\maxabend\\AppData\\Local\\conda\\conda\\envs\\maxabend\\lib\\site-packages\\urllib3\\connectionpool.py:857: InsecureRequestWarning: Unverified HTTPS request is being made. Adding certificate verification is strongly advised. See: https://urllib3.readthedocs.io/en/latest/advanced-usage.html#ssl-warnings\n",
      "  InsecureRequestWarning)\n",
      "C:\\Users\\maxabend\\AppData\\Local\\conda\\conda\\envs\\maxabend\\lib\\site-packages\\urllib3\\connectionpool.py:857: InsecureRequestWarning: Unverified HTTPS request is being made. Adding certificate verification is strongly advised. See: https://urllib3.readthedocs.io/en/latest/advanced-usage.html#ssl-warnings\n",
      "  InsecureRequestWarning)\n",
      "C:\\Users\\maxabend\\AppData\\Local\\conda\\conda\\envs\\maxabend\\lib\\site-packages\\urllib3\\connectionpool.py:857: InsecureRequestWarning: Unverified HTTPS request is being made. Adding certificate verification is strongly advised. See: https://urllib3.readthedocs.io/en/latest/advanced-usage.html#ssl-warnings\n",
      "  InsecureRequestWarning)\n",
      "C:\\Users\\maxabend\\AppData\\Local\\conda\\conda\\envs\\maxabend\\lib\\site-packages\\urllib3\\connectionpool.py:857: InsecureRequestWarning: Unverified HTTPS request is being made. Adding certificate verification is strongly advised. See: https://urllib3.readthedocs.io/en/latest/advanced-usage.html#ssl-warnings\n",
      "  InsecureRequestWarning)\n",
      "C:\\Users\\maxabend\\AppData\\Local\\conda\\conda\\envs\\maxabend\\lib\\site-packages\\urllib3\\connectionpool.py:857: InsecureRequestWarning: Unverified HTTPS request is being made. Adding certificate verification is strongly advised. See: https://urllib3.readthedocs.io/en/latest/advanced-usage.html#ssl-warnings\n",
      "  InsecureRequestWarning)\n",
      "C:\\Users\\maxabend\\AppData\\Local\\conda\\conda\\envs\\maxabend\\lib\\site-packages\\urllib3\\connectionpool.py:857: InsecureRequestWarning: Unverified HTTPS request is being made. Adding certificate verification is strongly advised. See: https://urllib3.readthedocs.io/en/latest/advanced-usage.html#ssl-warnings\n",
      "  InsecureRequestWarning)\n",
      "C:\\Users\\maxabend\\AppData\\Local\\conda\\conda\\envs\\maxabend\\lib\\site-packages\\urllib3\\connectionpool.py:857: InsecureRequestWarning: Unverified HTTPS request is being made. Adding certificate verification is strongly advised. See: https://urllib3.readthedocs.io/en/latest/advanced-usage.html#ssl-warnings\n",
      "  InsecureRequestWarning)\n",
      "C:\\Users\\maxabend\\AppData\\Local\\conda\\conda\\envs\\maxabend\\lib\\site-packages\\urllib3\\connectionpool.py:857: InsecureRequestWarning: Unverified HTTPS request is being made. Adding certificate verification is strongly advised. See: https://urllib3.readthedocs.io/en/latest/advanced-usage.html#ssl-warnings\n",
      "  InsecureRequestWarning)\n",
      "C:\\Users\\maxabend\\AppData\\Local\\conda\\conda\\envs\\maxabend\\lib\\site-packages\\urllib3\\connectionpool.py:857: InsecureRequestWarning: Unverified HTTPS request is being made. Adding certificate verification is strongly advised. See: https://urllib3.readthedocs.io/en/latest/advanced-usage.html#ssl-warnings\n",
      "  InsecureRequestWarning)\n",
      "C:\\Users\\maxabend\\AppData\\Local\\conda\\conda\\envs\\maxabend\\lib\\site-packages\\urllib3\\connectionpool.py:857: InsecureRequestWarning: Unverified HTTPS request is being made. Adding certificate verification is strongly advised. See: https://urllib3.readthedocs.io/en/latest/advanced-usage.html#ssl-warnings\n",
      "  InsecureRequestWarning)\n",
      "C:\\Users\\maxabend\\AppData\\Local\\conda\\conda\\envs\\maxabend\\lib\\site-packages\\urllib3\\connectionpool.py:857: InsecureRequestWarning: Unverified HTTPS request is being made. Adding certificate verification is strongly advised. See: https://urllib3.readthedocs.io/en/latest/advanced-usage.html#ssl-warnings\n",
      "  InsecureRequestWarning)\n",
      "C:\\Users\\maxabend\\AppData\\Local\\conda\\conda\\envs\\maxabend\\lib\\site-packages\\urllib3\\connectionpool.py:857: InsecureRequestWarning: Unverified HTTPS request is being made. Adding certificate verification is strongly advised. See: https://urllib3.readthedocs.io/en/latest/advanced-usage.html#ssl-warnings\n",
      "  InsecureRequestWarning)\n",
      "C:\\Users\\maxabend\\AppData\\Local\\conda\\conda\\envs\\maxabend\\lib\\site-packages\\urllib3\\connectionpool.py:857: InsecureRequestWarning: Unverified HTTPS request is being made. Adding certificate verification is strongly advised. See: https://urllib3.readthedocs.io/en/latest/advanced-usage.html#ssl-warnings\n",
      "  InsecureRequestWarning)\n",
      "C:\\Users\\maxabend\\AppData\\Local\\conda\\conda\\envs\\maxabend\\lib\\site-packages\\urllib3\\connectionpool.py:857: InsecureRequestWarning: Unverified HTTPS request is being made. Adding certificate verification is strongly advised. See: https://urllib3.readthedocs.io/en/latest/advanced-usage.html#ssl-warnings\n",
      "  InsecureRequestWarning)\n",
      "C:\\Users\\maxabend\\AppData\\Local\\conda\\conda\\envs\\maxabend\\lib\\site-packages\\urllib3\\connectionpool.py:857: InsecureRequestWarning: Unverified HTTPS request is being made. Adding certificate verification is strongly advised. See: https://urllib3.readthedocs.io/en/latest/advanced-usage.html#ssl-warnings\n",
      "  InsecureRequestWarning)\n",
      "C:\\Users\\maxabend\\AppData\\Local\\conda\\conda\\envs\\maxabend\\lib\\site-packages\\urllib3\\connectionpool.py:857: InsecureRequestWarning: Unverified HTTPS request is being made. Adding certificate verification is strongly advised. See: https://urllib3.readthedocs.io/en/latest/advanced-usage.html#ssl-warnings\n",
      "  InsecureRequestWarning)\n",
      "C:\\Users\\maxabend\\AppData\\Local\\conda\\conda\\envs\\maxabend\\lib\\site-packages\\urllib3\\connectionpool.py:857: InsecureRequestWarning: Unverified HTTPS request is being made. Adding certificate verification is strongly advised. See: https://urllib3.readthedocs.io/en/latest/advanced-usage.html#ssl-warnings\n",
      "  InsecureRequestWarning)\n",
      "C:\\Users\\maxabend\\AppData\\Local\\conda\\conda\\envs\\maxabend\\lib\\site-packages\\urllib3\\connectionpool.py:857: InsecureRequestWarning: Unverified HTTPS request is being made. Adding certificate verification is strongly advised. See: https://urllib3.readthedocs.io/en/latest/advanced-usage.html#ssl-warnings\n",
      "  InsecureRequestWarning)\n",
      "C:\\Users\\maxabend\\AppData\\Local\\conda\\conda\\envs\\maxabend\\lib\\site-packages\\urllib3\\connectionpool.py:857: InsecureRequestWarning: Unverified HTTPS request is being made. Adding certificate verification is strongly advised. See: https://urllib3.readthedocs.io/en/latest/advanced-usage.html#ssl-warnings\n",
      "  InsecureRequestWarning)\n"
     ]
    },
    {
     "name": "stderr",
     "output_type": "stream",
     "text": [
      "C:\\Users\\maxabend\\AppData\\Local\\conda\\conda\\envs\\maxabend\\lib\\site-packages\\urllib3\\connectionpool.py:857: InsecureRequestWarning: Unverified HTTPS request is being made. Adding certificate verification is strongly advised. See: https://urllib3.readthedocs.io/en/latest/advanced-usage.html#ssl-warnings\n",
      "  InsecureRequestWarning)\n",
      "C:\\Users\\maxabend\\AppData\\Local\\conda\\conda\\envs\\maxabend\\lib\\site-packages\\urllib3\\connectionpool.py:857: InsecureRequestWarning: Unverified HTTPS request is being made. Adding certificate verification is strongly advised. See: https://urllib3.readthedocs.io/en/latest/advanced-usage.html#ssl-warnings\n",
      "  InsecureRequestWarning)\n",
      "C:\\Users\\maxabend\\AppData\\Local\\conda\\conda\\envs\\maxabend\\lib\\site-packages\\urllib3\\connectionpool.py:857: InsecureRequestWarning: Unverified HTTPS request is being made. Adding certificate verification is strongly advised. See: https://urllib3.readthedocs.io/en/latest/advanced-usage.html#ssl-warnings\n",
      "  InsecureRequestWarning)\n",
      "C:\\Users\\maxabend\\AppData\\Local\\conda\\conda\\envs\\maxabend\\lib\\site-packages\\urllib3\\connectionpool.py:857: InsecureRequestWarning: Unverified HTTPS request is being made. Adding certificate verification is strongly advised. See: https://urllib3.readthedocs.io/en/latest/advanced-usage.html#ssl-warnings\n",
      "  InsecureRequestWarning)\n",
      "C:\\Users\\maxabend\\AppData\\Local\\conda\\conda\\envs\\maxabend\\lib\\site-packages\\urllib3\\connectionpool.py:857: InsecureRequestWarning: Unverified HTTPS request is being made. Adding certificate verification is strongly advised. See: https://urllib3.readthedocs.io/en/latest/advanced-usage.html#ssl-warnings\n",
      "  InsecureRequestWarning)\n",
      "C:\\Users\\maxabend\\AppData\\Local\\conda\\conda\\envs\\maxabend\\lib\\site-packages\\urllib3\\connectionpool.py:857: InsecureRequestWarning: Unverified HTTPS request is being made. Adding certificate verification is strongly advised. See: https://urllib3.readthedocs.io/en/latest/advanced-usage.html#ssl-warnings\n",
      "  InsecureRequestWarning)\n",
      "C:\\Users\\maxabend\\AppData\\Local\\conda\\conda\\envs\\maxabend\\lib\\site-packages\\urllib3\\connectionpool.py:857: InsecureRequestWarning: Unverified HTTPS request is being made. Adding certificate verification is strongly advised. See: https://urllib3.readthedocs.io/en/latest/advanced-usage.html#ssl-warnings\n",
      "  InsecureRequestWarning)\n",
      "C:\\Users\\maxabend\\AppData\\Local\\conda\\conda\\envs\\maxabend\\lib\\site-packages\\urllib3\\connectionpool.py:857: InsecureRequestWarning: Unverified HTTPS request is being made. Adding certificate verification is strongly advised. See: https://urllib3.readthedocs.io/en/latest/advanced-usage.html#ssl-warnings\n",
      "  InsecureRequestWarning)\n",
      "C:\\Users\\maxabend\\AppData\\Local\\conda\\conda\\envs\\maxabend\\lib\\site-packages\\urllib3\\connectionpool.py:857: InsecureRequestWarning: Unverified HTTPS request is being made. Adding certificate verification is strongly advised. See: https://urllib3.readthedocs.io/en/latest/advanced-usage.html#ssl-warnings\n",
      "  InsecureRequestWarning)\n",
      "C:\\Users\\maxabend\\AppData\\Local\\conda\\conda\\envs\\maxabend\\lib\\site-packages\\urllib3\\connectionpool.py:857: InsecureRequestWarning: Unverified HTTPS request is being made. Adding certificate verification is strongly advised. See: https://urllib3.readthedocs.io/en/latest/advanced-usage.html#ssl-warnings\n",
      "  InsecureRequestWarning)\n",
      "C:\\Users\\maxabend\\AppData\\Local\\conda\\conda\\envs\\maxabend\\lib\\site-packages\\urllib3\\connectionpool.py:857: InsecureRequestWarning: Unverified HTTPS request is being made. Adding certificate verification is strongly advised. See: https://urllib3.readthedocs.io/en/latest/advanced-usage.html#ssl-warnings\n",
      "  InsecureRequestWarning)\n",
      "C:\\Users\\maxabend\\AppData\\Local\\conda\\conda\\envs\\maxabend\\lib\\site-packages\\urllib3\\connectionpool.py:857: InsecureRequestWarning: Unverified HTTPS request is being made. Adding certificate verification is strongly advised. See: https://urllib3.readthedocs.io/en/latest/advanced-usage.html#ssl-warnings\n",
      "  InsecureRequestWarning)\n",
      "C:\\Users\\maxabend\\AppData\\Local\\conda\\conda\\envs\\maxabend\\lib\\site-packages\\urllib3\\connectionpool.py:857: InsecureRequestWarning: Unverified HTTPS request is being made. Adding certificate verification is strongly advised. See: https://urllib3.readthedocs.io/en/latest/advanced-usage.html#ssl-warnings\n",
      "  InsecureRequestWarning)\n",
      "C:\\Users\\maxabend\\AppData\\Local\\conda\\conda\\envs\\maxabend\\lib\\site-packages\\urllib3\\connectionpool.py:857: InsecureRequestWarning: Unverified HTTPS request is being made. Adding certificate verification is strongly advised. See: https://urllib3.readthedocs.io/en/latest/advanced-usage.html#ssl-warnings\n",
      "  InsecureRequestWarning)\n",
      "C:\\Users\\maxabend\\AppData\\Local\\conda\\conda\\envs\\maxabend\\lib\\site-packages\\urllib3\\connectionpool.py:857: InsecureRequestWarning: Unverified HTTPS request is being made. Adding certificate verification is strongly advised. See: https://urllib3.readthedocs.io/en/latest/advanced-usage.html#ssl-warnings\n",
      "  InsecureRequestWarning)\n",
      "C:\\Users\\maxabend\\AppData\\Local\\conda\\conda\\envs\\maxabend\\lib\\site-packages\\urllib3\\connectionpool.py:857: InsecureRequestWarning: Unverified HTTPS request is being made. Adding certificate verification is strongly advised. See: https://urllib3.readthedocs.io/en/latest/advanced-usage.html#ssl-warnings\n",
      "  InsecureRequestWarning)\n",
      "C:\\Users\\maxabend\\AppData\\Local\\conda\\conda\\envs\\maxabend\\lib\\site-packages\\urllib3\\connectionpool.py:857: InsecureRequestWarning: Unverified HTTPS request is being made. Adding certificate verification is strongly advised. See: https://urllib3.readthedocs.io/en/latest/advanced-usage.html#ssl-warnings\n",
      "  InsecureRequestWarning)\n",
      "C:\\Users\\maxabend\\AppData\\Local\\conda\\conda\\envs\\maxabend\\lib\\site-packages\\urllib3\\connectionpool.py:857: InsecureRequestWarning: Unverified HTTPS request is being made. Adding certificate verification is strongly advised. See: https://urllib3.readthedocs.io/en/latest/advanced-usage.html#ssl-warnings\n",
      "  InsecureRequestWarning)\n",
      "C:\\Users\\maxabend\\AppData\\Local\\conda\\conda\\envs\\maxabend\\lib\\site-packages\\urllib3\\connectionpool.py:857: InsecureRequestWarning: Unverified HTTPS request is being made. Adding certificate verification is strongly advised. See: https://urllib3.readthedocs.io/en/latest/advanced-usage.html#ssl-warnings\n",
      "  InsecureRequestWarning)\n",
      "C:\\Users\\maxabend\\AppData\\Local\\conda\\conda\\envs\\maxabend\\lib\\site-packages\\urllib3\\connectionpool.py:857: InsecureRequestWarning: Unverified HTTPS request is being made. Adding certificate verification is strongly advised. See: https://urllib3.readthedocs.io/en/latest/advanced-usage.html#ssl-warnings\n",
      "  InsecureRequestWarning)\n",
      "C:\\Users\\maxabend\\AppData\\Local\\conda\\conda\\envs\\maxabend\\lib\\site-packages\\urllib3\\connectionpool.py:857: InsecureRequestWarning: Unverified HTTPS request is being made. Adding certificate verification is strongly advised. See: https://urllib3.readthedocs.io/en/latest/advanced-usage.html#ssl-warnings\n",
      "  InsecureRequestWarning)\n",
      "C:\\Users\\maxabend\\AppData\\Local\\conda\\conda\\envs\\maxabend\\lib\\site-packages\\urllib3\\connectionpool.py:857: InsecureRequestWarning: Unverified HTTPS request is being made. Adding certificate verification is strongly advised. See: https://urllib3.readthedocs.io/en/latest/advanced-usage.html#ssl-warnings\n",
      "  InsecureRequestWarning)\n",
      "C:\\Users\\maxabend\\AppData\\Local\\conda\\conda\\envs\\maxabend\\lib\\site-packages\\urllib3\\connectionpool.py:857: InsecureRequestWarning: Unverified HTTPS request is being made. Adding certificate verification is strongly advised. See: https://urllib3.readthedocs.io/en/latest/advanced-usage.html#ssl-warnings\n",
      "  InsecureRequestWarning)\n",
      "C:\\Users\\maxabend\\AppData\\Local\\conda\\conda\\envs\\maxabend\\lib\\site-packages\\urllib3\\connectionpool.py:857: InsecureRequestWarning: Unverified HTTPS request is being made. Adding certificate verification is strongly advised. See: https://urllib3.readthedocs.io/en/latest/advanced-usage.html#ssl-warnings\n",
      "  InsecureRequestWarning)\n",
      "C:\\Users\\maxabend\\AppData\\Local\\conda\\conda\\envs\\maxabend\\lib\\site-packages\\urllib3\\connectionpool.py:857: InsecureRequestWarning: Unverified HTTPS request is being made. Adding certificate verification is strongly advised. See: https://urllib3.readthedocs.io/en/latest/advanced-usage.html#ssl-warnings\n",
      "  InsecureRequestWarning)\n",
      "C:\\Users\\maxabend\\AppData\\Local\\conda\\conda\\envs\\maxabend\\lib\\site-packages\\urllib3\\connectionpool.py:857: InsecureRequestWarning: Unverified HTTPS request is being made. Adding certificate verification is strongly advised. See: https://urllib3.readthedocs.io/en/latest/advanced-usage.html#ssl-warnings\n",
      "  InsecureRequestWarning)\n"
     ]
    },
    {
     "name": "stderr",
     "output_type": "stream",
     "text": [
      "C:\\Users\\maxabend\\AppData\\Local\\conda\\conda\\envs\\maxabend\\lib\\site-packages\\urllib3\\connectionpool.py:857: InsecureRequestWarning: Unverified HTTPS request is being made. Adding certificate verification is strongly advised. See: https://urllib3.readthedocs.io/en/latest/advanced-usage.html#ssl-warnings\n",
      "  InsecureRequestWarning)\n",
      "C:\\Users\\maxabend\\AppData\\Local\\conda\\conda\\envs\\maxabend\\lib\\site-packages\\urllib3\\connectionpool.py:857: InsecureRequestWarning: Unverified HTTPS request is being made. Adding certificate verification is strongly advised. See: https://urllib3.readthedocs.io/en/latest/advanced-usage.html#ssl-warnings\n",
      "  InsecureRequestWarning)\n",
      "C:\\Users\\maxabend\\AppData\\Local\\conda\\conda\\envs\\maxabend\\lib\\site-packages\\urllib3\\connectionpool.py:857: InsecureRequestWarning: Unverified HTTPS request is being made. Adding certificate verification is strongly advised. See: https://urllib3.readthedocs.io/en/latest/advanced-usage.html#ssl-warnings\n",
      "  InsecureRequestWarning)\n",
      "C:\\Users\\maxabend\\AppData\\Local\\conda\\conda\\envs\\maxabend\\lib\\site-packages\\urllib3\\connectionpool.py:857: InsecureRequestWarning: Unverified HTTPS request is being made. Adding certificate verification is strongly advised. See: https://urllib3.readthedocs.io/en/latest/advanced-usage.html#ssl-warnings\n",
      "  InsecureRequestWarning)\n",
      "C:\\Users\\maxabend\\AppData\\Local\\conda\\conda\\envs\\maxabend\\lib\\site-packages\\urllib3\\connectionpool.py:857: InsecureRequestWarning: Unverified HTTPS request is being made. Adding certificate verification is strongly advised. See: https://urllib3.readthedocs.io/en/latest/advanced-usage.html#ssl-warnings\n",
      "  InsecureRequestWarning)\n",
      "C:\\Users\\maxabend\\AppData\\Local\\conda\\conda\\envs\\maxabend\\lib\\site-packages\\urllib3\\connectionpool.py:857: InsecureRequestWarning: Unverified HTTPS request is being made. Adding certificate verification is strongly advised. See: https://urllib3.readthedocs.io/en/latest/advanced-usage.html#ssl-warnings\n",
      "  InsecureRequestWarning)\n",
      "C:\\Users\\maxabend\\AppData\\Local\\conda\\conda\\envs\\maxabend\\lib\\site-packages\\urllib3\\connectionpool.py:857: InsecureRequestWarning: Unverified HTTPS request is being made. Adding certificate verification is strongly advised. See: https://urllib3.readthedocs.io/en/latest/advanced-usage.html#ssl-warnings\n",
      "  InsecureRequestWarning)\n",
      "C:\\Users\\maxabend\\AppData\\Local\\conda\\conda\\envs\\maxabend\\lib\\site-packages\\urllib3\\connectionpool.py:857: InsecureRequestWarning: Unverified HTTPS request is being made. Adding certificate verification is strongly advised. See: https://urllib3.readthedocs.io/en/latest/advanced-usage.html#ssl-warnings\n",
      "  InsecureRequestWarning)\n",
      "C:\\Users\\maxabend\\AppData\\Local\\conda\\conda\\envs\\maxabend\\lib\\site-packages\\urllib3\\connectionpool.py:857: InsecureRequestWarning: Unverified HTTPS request is being made. Adding certificate verification is strongly advised. See: https://urllib3.readthedocs.io/en/latest/advanced-usage.html#ssl-warnings\n",
      "  InsecureRequestWarning)\n",
      "C:\\Users\\maxabend\\AppData\\Local\\conda\\conda\\envs\\maxabend\\lib\\site-packages\\urllib3\\connectionpool.py:857: InsecureRequestWarning: Unverified HTTPS request is being made. Adding certificate verification is strongly advised. See: https://urllib3.readthedocs.io/en/latest/advanced-usage.html#ssl-warnings\n",
      "  InsecureRequestWarning)\n",
      "C:\\Users\\maxabend\\AppData\\Local\\conda\\conda\\envs\\maxabend\\lib\\site-packages\\urllib3\\connectionpool.py:857: InsecureRequestWarning: Unverified HTTPS request is being made. Adding certificate verification is strongly advised. See: https://urllib3.readthedocs.io/en/latest/advanced-usage.html#ssl-warnings\n",
      "  InsecureRequestWarning)\n",
      "C:\\Users\\maxabend\\AppData\\Local\\conda\\conda\\envs\\maxabend\\lib\\site-packages\\urllib3\\connectionpool.py:857: InsecureRequestWarning: Unverified HTTPS request is being made. Adding certificate verification is strongly advised. See: https://urllib3.readthedocs.io/en/latest/advanced-usage.html#ssl-warnings\n",
      "  InsecureRequestWarning)\n",
      "C:\\Users\\maxabend\\AppData\\Local\\conda\\conda\\envs\\maxabend\\lib\\site-packages\\urllib3\\connectionpool.py:857: InsecureRequestWarning: Unverified HTTPS request is being made. Adding certificate verification is strongly advised. See: https://urllib3.readthedocs.io/en/latest/advanced-usage.html#ssl-warnings\n",
      "  InsecureRequestWarning)\n",
      "C:\\Users\\maxabend\\AppData\\Local\\conda\\conda\\envs\\maxabend\\lib\\site-packages\\urllib3\\connectionpool.py:857: InsecureRequestWarning: Unverified HTTPS request is being made. Adding certificate verification is strongly advised. See: https://urllib3.readthedocs.io/en/latest/advanced-usage.html#ssl-warnings\n",
      "  InsecureRequestWarning)\n",
      "C:\\Users\\maxabend\\AppData\\Local\\conda\\conda\\envs\\maxabend\\lib\\site-packages\\urllib3\\connectionpool.py:857: InsecureRequestWarning: Unverified HTTPS request is being made. Adding certificate verification is strongly advised. See: https://urllib3.readthedocs.io/en/latest/advanced-usage.html#ssl-warnings\n",
      "  InsecureRequestWarning)\n",
      "C:\\Users\\maxabend\\AppData\\Local\\conda\\conda\\envs\\maxabend\\lib\\site-packages\\urllib3\\connectionpool.py:857: InsecureRequestWarning: Unverified HTTPS request is being made. Adding certificate verification is strongly advised. See: https://urllib3.readthedocs.io/en/latest/advanced-usage.html#ssl-warnings\n",
      "  InsecureRequestWarning)\n",
      "C:\\Users\\maxabend\\AppData\\Local\\conda\\conda\\envs\\maxabend\\lib\\site-packages\\urllib3\\connectionpool.py:857: InsecureRequestWarning: Unverified HTTPS request is being made. Adding certificate verification is strongly advised. See: https://urllib3.readthedocs.io/en/latest/advanced-usage.html#ssl-warnings\n",
      "  InsecureRequestWarning)\n",
      "C:\\Users\\maxabend\\AppData\\Local\\conda\\conda\\envs\\maxabend\\lib\\site-packages\\urllib3\\connectionpool.py:857: InsecureRequestWarning: Unverified HTTPS request is being made. Adding certificate verification is strongly advised. See: https://urllib3.readthedocs.io/en/latest/advanced-usage.html#ssl-warnings\n",
      "  InsecureRequestWarning)\n",
      "C:\\Users\\maxabend\\AppData\\Local\\conda\\conda\\envs\\maxabend\\lib\\site-packages\\urllib3\\connectionpool.py:857: InsecureRequestWarning: Unverified HTTPS request is being made. Adding certificate verification is strongly advised. See: https://urllib3.readthedocs.io/en/latest/advanced-usage.html#ssl-warnings\n",
      "  InsecureRequestWarning)\n",
      "C:\\Users\\maxabend\\AppData\\Local\\conda\\conda\\envs\\maxabend\\lib\\site-packages\\urllib3\\connectionpool.py:857: InsecureRequestWarning: Unverified HTTPS request is being made. Adding certificate verification is strongly advised. See: https://urllib3.readthedocs.io/en/latest/advanced-usage.html#ssl-warnings\n",
      "  InsecureRequestWarning)\n",
      "C:\\Users\\maxabend\\AppData\\Local\\conda\\conda\\envs\\maxabend\\lib\\site-packages\\urllib3\\connectionpool.py:857: InsecureRequestWarning: Unverified HTTPS request is being made. Adding certificate verification is strongly advised. See: https://urllib3.readthedocs.io/en/latest/advanced-usage.html#ssl-warnings\n",
      "  InsecureRequestWarning)\n",
      "C:\\Users\\maxabend\\AppData\\Local\\conda\\conda\\envs\\maxabend\\lib\\site-packages\\urllib3\\connectionpool.py:857: InsecureRequestWarning: Unverified HTTPS request is being made. Adding certificate verification is strongly advised. See: https://urllib3.readthedocs.io/en/latest/advanced-usage.html#ssl-warnings\n",
      "  InsecureRequestWarning)\n",
      "C:\\Users\\maxabend\\AppData\\Local\\conda\\conda\\envs\\maxabend\\lib\\site-packages\\urllib3\\connectionpool.py:857: InsecureRequestWarning: Unverified HTTPS request is being made. Adding certificate verification is strongly advised. See: https://urllib3.readthedocs.io/en/latest/advanced-usage.html#ssl-warnings\n",
      "  InsecureRequestWarning)\n",
      "C:\\Users\\maxabend\\AppData\\Local\\conda\\conda\\envs\\maxabend\\lib\\site-packages\\urllib3\\connectionpool.py:857: InsecureRequestWarning: Unverified HTTPS request is being made. Adding certificate verification is strongly advised. See: https://urllib3.readthedocs.io/en/latest/advanced-usage.html#ssl-warnings\n",
      "  InsecureRequestWarning)\n",
      "C:\\Users\\maxabend\\AppData\\Local\\conda\\conda\\envs\\maxabend\\lib\\site-packages\\urllib3\\connectionpool.py:857: InsecureRequestWarning: Unverified HTTPS request is being made. Adding certificate verification is strongly advised. See: https://urllib3.readthedocs.io/en/latest/advanced-usage.html#ssl-warnings\n",
      "  InsecureRequestWarning)\n",
      "C:\\Users\\maxabend\\AppData\\Local\\conda\\conda\\envs\\maxabend\\lib\\site-packages\\urllib3\\connectionpool.py:857: InsecureRequestWarning: Unverified HTTPS request is being made. Adding certificate verification is strongly advised. See: https://urllib3.readthedocs.io/en/latest/advanced-usage.html#ssl-warnings\n",
      "  InsecureRequestWarning)\n"
     ]
    },
    {
     "name": "stderr",
     "output_type": "stream",
     "text": [
      "C:\\Users\\maxabend\\AppData\\Local\\conda\\conda\\envs\\maxabend\\lib\\site-packages\\urllib3\\connectionpool.py:857: InsecureRequestWarning: Unverified HTTPS request is being made. Adding certificate verification is strongly advised. See: https://urllib3.readthedocs.io/en/latest/advanced-usage.html#ssl-warnings\n",
      "  InsecureRequestWarning)\n",
      "C:\\Users\\maxabend\\AppData\\Local\\conda\\conda\\envs\\maxabend\\lib\\site-packages\\urllib3\\connectionpool.py:857: InsecureRequestWarning: Unverified HTTPS request is being made. Adding certificate verification is strongly advised. See: https://urllib3.readthedocs.io/en/latest/advanced-usage.html#ssl-warnings\n",
      "  InsecureRequestWarning)\n",
      "C:\\Users\\maxabend\\AppData\\Local\\conda\\conda\\envs\\maxabend\\lib\\site-packages\\urllib3\\connectionpool.py:857: InsecureRequestWarning: Unverified HTTPS request is being made. Adding certificate verification is strongly advised. See: https://urllib3.readthedocs.io/en/latest/advanced-usage.html#ssl-warnings\n",
      "  InsecureRequestWarning)\n",
      "C:\\Users\\maxabend\\AppData\\Local\\conda\\conda\\envs\\maxabend\\lib\\site-packages\\urllib3\\connectionpool.py:857: InsecureRequestWarning: Unverified HTTPS request is being made. Adding certificate verification is strongly advised. See: https://urllib3.readthedocs.io/en/latest/advanced-usage.html#ssl-warnings\n",
      "  InsecureRequestWarning)\n",
      "C:\\Users\\maxabend\\AppData\\Local\\conda\\conda\\envs\\maxabend\\lib\\site-packages\\urllib3\\connectionpool.py:857: InsecureRequestWarning: Unverified HTTPS request is being made. Adding certificate verification is strongly advised. See: https://urllib3.readthedocs.io/en/latest/advanced-usage.html#ssl-warnings\n",
      "  InsecureRequestWarning)\n",
      "C:\\Users\\maxabend\\AppData\\Local\\conda\\conda\\envs\\maxabend\\lib\\site-packages\\urllib3\\connectionpool.py:857: InsecureRequestWarning: Unverified HTTPS request is being made. Adding certificate verification is strongly advised. See: https://urllib3.readthedocs.io/en/latest/advanced-usage.html#ssl-warnings\n",
      "  InsecureRequestWarning)\n",
      "C:\\Users\\maxabend\\AppData\\Local\\conda\\conda\\envs\\maxabend\\lib\\site-packages\\urllib3\\connectionpool.py:857: InsecureRequestWarning: Unverified HTTPS request is being made. Adding certificate verification is strongly advised. See: https://urllib3.readthedocs.io/en/latest/advanced-usage.html#ssl-warnings\n",
      "  InsecureRequestWarning)\n",
      "C:\\Users\\maxabend\\AppData\\Local\\conda\\conda\\envs\\maxabend\\lib\\site-packages\\urllib3\\connectionpool.py:857: InsecureRequestWarning: Unverified HTTPS request is being made. Adding certificate verification is strongly advised. See: https://urllib3.readthedocs.io/en/latest/advanced-usage.html#ssl-warnings\n",
      "  InsecureRequestWarning)\n",
      "C:\\Users\\maxabend\\AppData\\Local\\conda\\conda\\envs\\maxabend\\lib\\site-packages\\urllib3\\connectionpool.py:857: InsecureRequestWarning: Unverified HTTPS request is being made. Adding certificate verification is strongly advised. See: https://urllib3.readthedocs.io/en/latest/advanced-usage.html#ssl-warnings\n",
      "  InsecureRequestWarning)\n",
      "C:\\Users\\maxabend\\AppData\\Local\\conda\\conda\\envs\\maxabend\\lib\\site-packages\\urllib3\\connectionpool.py:857: InsecureRequestWarning: Unverified HTTPS request is being made. Adding certificate verification is strongly advised. See: https://urllib3.readthedocs.io/en/latest/advanced-usage.html#ssl-warnings\n",
      "  InsecureRequestWarning)\n",
      "C:\\Users\\maxabend\\AppData\\Local\\conda\\conda\\envs\\maxabend\\lib\\site-packages\\urllib3\\connectionpool.py:857: InsecureRequestWarning: Unverified HTTPS request is being made. Adding certificate verification is strongly advised. See: https://urllib3.readthedocs.io/en/latest/advanced-usage.html#ssl-warnings\n",
      "  InsecureRequestWarning)\n",
      "C:\\Users\\maxabend\\AppData\\Local\\conda\\conda\\envs\\maxabend\\lib\\site-packages\\urllib3\\connectionpool.py:857: InsecureRequestWarning: Unverified HTTPS request is being made. Adding certificate verification is strongly advised. See: https://urllib3.readthedocs.io/en/latest/advanced-usage.html#ssl-warnings\n",
      "  InsecureRequestWarning)\n",
      "C:\\Users\\maxabend\\AppData\\Local\\conda\\conda\\envs\\maxabend\\lib\\site-packages\\urllib3\\connectionpool.py:857: InsecureRequestWarning: Unverified HTTPS request is being made. Adding certificate verification is strongly advised. See: https://urllib3.readthedocs.io/en/latest/advanced-usage.html#ssl-warnings\n",
      "  InsecureRequestWarning)\n",
      "C:\\Users\\maxabend\\AppData\\Local\\conda\\conda\\envs\\maxabend\\lib\\site-packages\\urllib3\\connectionpool.py:857: InsecureRequestWarning: Unverified HTTPS request is being made. Adding certificate verification is strongly advised. See: https://urllib3.readthedocs.io/en/latest/advanced-usage.html#ssl-warnings\n",
      "  InsecureRequestWarning)\n",
      "C:\\Users\\maxabend\\AppData\\Local\\conda\\conda\\envs\\maxabend\\lib\\site-packages\\urllib3\\connectionpool.py:857: InsecureRequestWarning: Unverified HTTPS request is being made. Adding certificate verification is strongly advised. See: https://urllib3.readthedocs.io/en/latest/advanced-usage.html#ssl-warnings\n",
      "  InsecureRequestWarning)\n",
      "C:\\Users\\maxabend\\AppData\\Local\\conda\\conda\\envs\\maxabend\\lib\\site-packages\\urllib3\\connectionpool.py:857: InsecureRequestWarning: Unverified HTTPS request is being made. Adding certificate verification is strongly advised. See: https://urllib3.readthedocs.io/en/latest/advanced-usage.html#ssl-warnings\n",
      "  InsecureRequestWarning)\n",
      "C:\\Users\\maxabend\\AppData\\Local\\conda\\conda\\envs\\maxabend\\lib\\site-packages\\urllib3\\connectionpool.py:857: InsecureRequestWarning: Unverified HTTPS request is being made. Adding certificate verification is strongly advised. See: https://urllib3.readthedocs.io/en/latest/advanced-usage.html#ssl-warnings\n",
      "  InsecureRequestWarning)\n",
      "C:\\Users\\maxabend\\AppData\\Local\\conda\\conda\\envs\\maxabend\\lib\\site-packages\\urllib3\\connectionpool.py:857: InsecureRequestWarning: Unverified HTTPS request is being made. Adding certificate verification is strongly advised. See: https://urllib3.readthedocs.io/en/latest/advanced-usage.html#ssl-warnings\n",
      "  InsecureRequestWarning)\n",
      "C:\\Users\\maxabend\\AppData\\Local\\conda\\conda\\envs\\maxabend\\lib\\site-packages\\urllib3\\connectionpool.py:857: InsecureRequestWarning: Unverified HTTPS request is being made. Adding certificate verification is strongly advised. See: https://urllib3.readthedocs.io/en/latest/advanced-usage.html#ssl-warnings\n",
      "  InsecureRequestWarning)\n"
     ]
    }
   ],
   "source": [
    "# info_table_link = []  Maybe store the links here and loop through them along with the below?\n",
    "# primary_doc_link = [] Maybe store the xml link to the \"primary doc xml\" file and use it pull manager, filing date, and \n",
    "# period of report?\n",
    "\n",
    "for link in doclink:\n",
    "    url = 'https://www.sec.gov' + link\n",
    "    time.sleep(.33)\n",
    "    response = requests.get(url, verify=False)\n",
    "    filing_soup = BeautifulSoup(response.text, 'lxml')\n",
    "\n",
    "    mgr_name = str.strip(filing_soup.find('span', {'class': 'companyName'}).text.split('(')[0])\n",
    "    \n",
    "    form_grouping = filing_soup.find_all('div', {'class': 'info'})\n",
    "    report_dt = form_grouping[3].text\n",
    "    filing_dt = form_grouping[4].text\n",
    "\n",
    "    cells = filing_soup.find_all('td')\n",
    "    for cell in cells:\n",
    "\n",
    "#             if cell.text == 'primary_doc.xml':\n",
    "#                 response = requests.get('https://www.sec.gov' + cell.find(href=True).get('href'),verify=False)\n",
    "#                 fsoup = BeautifulSoup(response.text, \"lxml\")\n",
    "#                 report_dt= fsoup.signaturedate.text\n",
    "#                 filing_dt= fsoup.periodofreport.text\n",
    "\n",
    "        if (cell.text == 'form13fInfoTable.xml') | (cell.text == 'infotable.xml'):\n",
    "            response = requests.get('https://www.sec.gov' + cell.find(href=True).get('href'), verify=False)\n",
    "            soup = BeautifulSoup(response.text, \"lxml\")\n",
    "            record = soup.find_all('infotable')\n",
    "            for rec in record:\n",
    "                mgr.append(mgr_name)\n",
    "                report_date.append(report_dt)\n",
    "                filing_date.append(filing_dt)\n",
    "                sh_name.append(rec.find('nameofissuer').text)\n",
    "                sh_class.append(rec.find('titleofclass').text)\n",
    "                cusip.append(rec.find('cusip').text)\n",
    "                val1000.append(rec.find('value').text)\n",
    "                share_count.append(rec.find('sshprnamt').text)\n",
    "                share_or_prin.append(rec.find('sshprnamttype').text)\n",
    "                discretion.append(rec.find('investmentdiscretion').text)\n",
    "                sole_vote_amt.append(rec.find('sole').text)\n",
    "                shared_vote_amt.append(rec.find('shared').text)"
   ]
  },
  {
   "cell_type": "code",
   "execution_count": 7,
   "metadata": {},
   "outputs": [],
   "source": [
    "df['manager'] = mgr\n",
    "df['filing_date'] = filing_date\n",
    "df['report_date']= report_date\n",
    "df['sh_name'] = sh_name\n",
    "df['sh_class'] = sh_class\n",
    "df['share_count'] = share_count\n",
    "df['cusip'] = cusip\n",
    "df['val1000'] = val1000\n",
    "df['share_or_prin'] = share_or_prin\n",
    "df['discretion'] = discretion\n",
    "df['sole_vote_amt'] = sole_vote_amt\n",
    "df['shared_vote_amt'] = shared_vote_amt\n"
   ]
  },
  {
   "cell_type": "code",
   "execution_count": 8,
   "metadata": {},
   "outputs": [
    {
     "name": "stdout",
     "output_type": "stream",
     "text": [
      "<class 'pandas.core.frame.DataFrame'>\n",
      "RangeIndex: 1880 entries, 0 to 1879\n",
      "Data columns (total 12 columns):\n",
      "manager            1880 non-null object\n",
      "filing_date        1880 non-null object\n",
      "report_date        1880 non-null object\n",
      "sh_name            1880 non-null object\n",
      "sh_class           1880 non-null object\n",
      "cusip              1880 non-null object\n",
      "val1000            1880 non-null object\n",
      "share_count        1880 non-null object\n",
      "share_or_prin      1880 non-null object\n",
      "discretion         1880 non-null object\n",
      "sole_vote_amt      1880 non-null object\n",
      "shared_vote_amt    1880 non-null object\n",
      "dtypes: object(12)\n",
      "memory usage: 176.3+ KB\n"
     ]
    }
   ],
   "source": [
    "df.info()"
   ]
  },
  {
   "cell_type": "code",
   "execution_count": null,
   "metadata": {
    "collapsed": true
   },
   "outputs": [],
   "source": [
    "df.to_csv(\"Comfirm.csv\")"
   ]
  },
  {
   "cell_type": "code",
   "execution_count": null,
   "metadata": {
    "collapsed": true
   },
   "outputs": [],
   "source": []
  },
  {
   "cell_type": "code",
   "execution_count": null,
   "metadata": {
    "collapsed": true
   },
   "outputs": [],
   "source": []
  },
  {
   "cell_type": "code",
   "execution_count": null,
   "metadata": {
    "collapsed": true
   },
   "outputs": [],
   "source": [
    "mgr"
   ]
  },
  {
   "cell_type": "markdown",
   "metadata": {
    "collapsed": true
   },
   "source": [
    "# This is a cell which shouldn't be needed, but just in case.\n",
    "\n",
    "### The idea here is pulling in filing date via an alternate method."
   ]
  },
  {
   "cell_type": "code",
   "execution_count": null,
   "metadata": {
    "collapsed": true,
    "scrolled": false
   },
   "outputs": [],
   "source": [
    "url_first = 'https://www.sec.gov/cgi-bin/browse-edgar?action=getcompany&CIK='\n",
    "CIK = ['0001564702', '0001067983']\n",
    "url_second = '&type=13F-HR%25&dateb=&owner=exclude&start='\n",
    "url_third = '&count=100'\n",
    "doclink = []\n",
    "file=[]\n",
    "\n",
    "for cik in CIK:\n",
    "    mgr_name = str.strip(soup.find('span', {'class': 'companyName'}).text.split('CIK')[0])\n",
    "    for num in range(0,300,100):\n",
    "        url = url_first+cik+url_second+str(num)+url_third\n",
    "        time.sleep(1)\n",
    "        response = requests.get(url, verify=False)\n",
    "        file_table = BeautifulSoup(response.text, 'lxml').find('table', {'class':'tableFile2'})\n",
    "        rows = file_table.find_all('tr')\n",
    "        \n",
    "        for row in rows:\n",
    "            cells = row.find_all('td')\n",
    "            for cell in cells[0:1]:\n",
    "                if cells[0].text == '13F-HR':\n",
    "                    doclink.append(cells[1].find(href=True).get('href'))\n",
    "            for cell in cells:\n",
    "                file.append(cells[3].text)\n",
    "\n",
    "    file = [x for i, x in enumerate(file) if i%5 == 0]"
   ]
  },
  {
   "cell_type": "code",
   "execution_count": null,
   "metadata": {
    "collapsed": true
   },
   "outputs": [],
   "source": [
    "file_table = soup.find('table', {'class':'tableFile2'})\n",
    "rows = file_table.find_all('tr')\n",
    "link = []\n",
    "for row in rows:\n",
    "    cells = row.find_all('td')\n",
    "    for cell in cells[0:1]:\n",
    "        if cells[0].text == '13F-HR':\n",
    "            link.append(cells[1].find(href=True).get('href'))"
   ]
  }
 ],
 "metadata": {
  "kernelspec": {
   "display_name": "Python 3",
   "language": "python",
   "name": "python3"
  },
  "language_info": {
   "codemirror_mode": {
    "name": "ipython",
    "version": 3
   },
   "file_extension": ".py",
   "mimetype": "text/x-python",
   "name": "python",
   "nbconvert_exporter": "python",
   "pygments_lexer": "ipython3",
   "version": "3.6.2"
  }
 },
 "nbformat": 4,
 "nbformat_minor": 2
}
