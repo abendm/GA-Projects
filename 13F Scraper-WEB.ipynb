{
 "cells": [
  {
   "cell_type": "code",
   "execution_count": 121,
   "metadata": {
    "collapsed": true
   },
   "outputs": [],
   "source": [
    "import requests\n",
    "from itertools import islice\n",
    "import time\n",
    "from bs4 import BeautifulSoup"
   ]
  },
  {
   "cell_type": "markdown",
   "metadata": {},
   "source": [
    "## The below cell:\n",
    "\n",
    "- Takes a list of Central Index Keys (\"CIK\"), which are numeric identifiers that identify a particular SEC filing entity.\n",
    "- Uses the CIK to construct a starting URL that identifies a company's \"13F-HR\" filings, which contain the data of interest.\n",
    "     - The first part of the URL, \"url_first\" has the root of the URL and expects a CIK\n",
    "     - The CIK identifies the company\n",
    "     - url_second specifies the \"type\" of filing as \"13F-HR', leaves the dateb and owner params null, and needs to be fed a \"start\" param.\n",
    "     - the value \"num\" in the 2nd for loop supplies the \"start=\" param\n",
    "     - url_third supplies the number of table rows to display.  It can be any of [10, 20, 40, 80, 100].  \n",
    "\n",
    "## Some additional notes:\n",
    "- I picked 40 as my \"count\" param rather arbitrarily.\n",
    "- I set a limit on the \"for num in range\" for loop of 280 since I expect fewer than 200 total results for any given SEC filer and I didn't want to spam the SEC servers and get blocked.\n",
    "- I imported the time module and added `time.sleep(1)` to force the requesting part of the loop to wait 1 second between requests for the same reason."
   ]
  },
  {
   "cell_type": "code",
   "execution_count": 131,
   "metadata": {
    "scrolled": false
   },
   "outputs": [
    {
     "name": "stderr",
     "output_type": "stream",
     "text": [
      "C:\\ProgramData\\Anaconda3\\lib\\site-packages\\requests\\packages\\urllib3\\connectionpool.py:852: InsecureRequestWarning: Unverified HTTPS request is being made. Adding certificate verification is strongly advised. See: https://urllib3.readthedocs.io/en/latest/advanced-usage.html#ssl-warnings\n",
      "  InsecureRequestWarning)\n",
      "C:\\ProgramData\\Anaconda3\\lib\\site-packages\\requests\\packages\\urllib3\\connectionpool.py:852: InsecureRequestWarning: Unverified HTTPS request is being made. Adding certificate verification is strongly advised. See: https://urllib3.readthedocs.io/en/latest/advanced-usage.html#ssl-warnings\n",
      "  InsecureRequestWarning)\n",
      "C:\\ProgramData\\Anaconda3\\lib\\site-packages\\requests\\packages\\urllib3\\connectionpool.py:852: InsecureRequestWarning: Unverified HTTPS request is being made. Adding certificate verification is strongly advised. See: https://urllib3.readthedocs.io/en/latest/advanced-usage.html#ssl-warnings\n",
      "  InsecureRequestWarning)\n",
      "C:\\ProgramData\\Anaconda3\\lib\\site-packages\\requests\\packages\\urllib3\\connectionpool.py:852: InsecureRequestWarning: Unverified HTTPS request is being made. Adding certificate verification is strongly advised. See: https://urllib3.readthedocs.io/en/latest/advanced-usage.html#ssl-warnings\n",
      "  InsecureRequestWarning)\n",
      "C:\\ProgramData\\Anaconda3\\lib\\site-packages\\requests\\packages\\urllib3\\connectionpool.py:852: InsecureRequestWarning: Unverified HTTPS request is being made. Adding certificate verification is strongly advised. See: https://urllib3.readthedocs.io/en/latest/advanced-usage.html#ssl-warnings\n",
      "  InsecureRequestWarning)\n",
      "C:\\ProgramData\\Anaconda3\\lib\\site-packages\\requests\\packages\\urllib3\\connectionpool.py:852: InsecureRequestWarning: Unverified HTTPS request is being made. Adding certificate verification is strongly advised. See: https://urllib3.readthedocs.io/en/latest/advanced-usage.html#ssl-warnings\n",
      "  InsecureRequestWarning)\n",
      "C:\\ProgramData\\Anaconda3\\lib\\site-packages\\requests\\packages\\urllib3\\connectionpool.py:852: InsecureRequestWarning: Unverified HTTPS request is being made. Adding certificate verification is strongly advised. See: https://urllib3.readthedocs.io/en/latest/advanced-usage.html#ssl-warnings\n",
      "  InsecureRequestWarning)\n",
      "C:\\ProgramData\\Anaconda3\\lib\\site-packages\\requests\\packages\\urllib3\\connectionpool.py:852: InsecureRequestWarning: Unverified HTTPS request is being made. Adding certificate verification is strongly advised. See: https://urllib3.readthedocs.io/en/latest/advanced-usage.html#ssl-warnings\n",
      "  InsecureRequestWarning)\n",
      "C:\\ProgramData\\Anaconda3\\lib\\site-packages\\requests\\packages\\urllib3\\connectionpool.py:852: InsecureRequestWarning: Unverified HTTPS request is being made. Adding certificate verification is strongly advised. See: https://urllib3.readthedocs.io/en/latest/advanced-usage.html#ssl-warnings\n",
      "  InsecureRequestWarning)\n",
      "C:\\ProgramData\\Anaconda3\\lib\\site-packages\\requests\\packages\\urllib3\\connectionpool.py:852: InsecureRequestWarning: Unverified HTTPS request is being made. Adding certificate verification is strongly advised. See: https://urllib3.readthedocs.io/en/latest/advanced-usage.html#ssl-warnings\n",
      "  InsecureRequestWarning)\n",
      "C:\\ProgramData\\Anaconda3\\lib\\site-packages\\requests\\packages\\urllib3\\connectionpool.py:852: InsecureRequestWarning: Unverified HTTPS request is being made. Adding certificate verification is strongly advised. See: https://urllib3.readthedocs.io/en/latest/advanced-usage.html#ssl-warnings\n",
      "  InsecureRequestWarning)\n",
      "C:\\ProgramData\\Anaconda3\\lib\\site-packages\\requests\\packages\\urllib3\\connectionpool.py:852: InsecureRequestWarning: Unverified HTTPS request is being made. Adding certificate verification is strongly advised. See: https://urllib3.readthedocs.io/en/latest/advanced-usage.html#ssl-warnings\n",
      "  InsecureRequestWarning)\n",
      "C:\\ProgramData\\Anaconda3\\lib\\site-packages\\requests\\packages\\urllib3\\connectionpool.py:852: InsecureRequestWarning: Unverified HTTPS request is being made. Adding certificate verification is strongly advised. See: https://urllib3.readthedocs.io/en/latest/advanced-usage.html#ssl-warnings\n",
      "  InsecureRequestWarning)\n",
      "C:\\ProgramData\\Anaconda3\\lib\\site-packages\\requests\\packages\\urllib3\\connectionpool.py:852: InsecureRequestWarning: Unverified HTTPS request is being made. Adding certificate verification is strongly advised. See: https://urllib3.readthedocs.io/en/latest/advanced-usage.html#ssl-warnings\n",
      "  InsecureRequestWarning)\n"
     ]
    }
   ],
   "source": [
    "url_first = 'https://www.sec.gov/cgi-bin/browse-edgar?action=getcompany&CIK='\n",
    "CIK = ['0001564702', '0001067983']\n",
    "url_second = '&type=13F-HR%25&dateb=&owner=exclude&start='\n",
    "url_third = '&count=40'\n",
    "doclink = []\n",
    "\n",
    "for cik in CIK:\n",
    "    for num in range(0,280,40):\n",
    "        url = url_first+cik+url_second+str(num)+url_third\n",
    "        time.sleep(1)\n",
    "        response = requests.get(url, verify=False)\n",
    "        soup = BeautifulSoup(response.text, 'lxml')\n",
    "        file_table = soup.find('table', {'class':'tableFile2'})\n",
    "        rows = file_table.find_all('tr')\n",
    "        for row in rows:\n",
    "            cells = row.find_all('td')\n",
    "            for cell in cells[0:1]:\n",
    "                if cells[0].text == '13F-HR':\n",
    "                    doclink.append(cells[1].find(href=True).get('href'))"
   ]
  },
  {
   "cell_type": "markdown",
   "metadata": {},
   "source": [
    "## Once the above cell is run, the output is a very long list of links to go through.  Within each link I will need to pull some values into a data structure.\n",
    "\n",
    "- <span class=\"companyName\"> contains the name of the filer.  While not strictly needed for the output of the project, this might be useful for later analytics.\n",
    "- I also want to be able to grab the value known as \"Period of Report\".  This is available from scraping each of the links in \"doclink,\" but it looks like it will be a pain to grab from there.\n",
    "- The most important piece to grab from each link is the filing itself.  For filings before June, 2013, the data is only available in a text file.  For filings made June 2013 and after, the data I care about is available in both text and XML.\n",
    "    - Since the text file is in the same format during both time periods, I will likely write a script that is only capable of parsing the text files."
   ]
  },
  {
   "cell_type": "code",
   "execution_count": 132,
   "metadata": {},
   "outputs": [
    {
     "data": {
      "text/plain": [
       "['/Archives/edgar/data/1564702/000156470218000008/0001564702-18-000008-index.htm',\n",
       " '/Archives/edgar/data/1564702/000156470218000005/0001564702-18-000005-index.htm',\n",
       " '/Archives/edgar/data/1564702/000156470218000003/0001564702-18-000003-index.htm',\n",
       " '/Archives/edgar/data/1564702/000156470217000010/0001564702-17-000010-index.htm',\n",
       " '/Archives/edgar/data/1564702/000156470217000008/0001564702-17-000008-index.htm']"
      ]
     },
     "execution_count": 132,
     "metadata": {},
     "output_type": "execute_result"
    }
   ],
   "source": [
    "link[:5]"
   ]
  },
  {
   "cell_type": "code",
   "execution_count": 113,
   "metadata": {},
   "outputs": [
    {
     "name": "stderr",
     "output_type": "stream",
     "text": [
      "C:\\ProgramData\\Anaconda3\\lib\\site-packages\\requests\\packages\\urllib3\\connectionpool.py:852: InsecureRequestWarning: Unverified HTTPS request is being made. Adding certificate verification is strongly advised. See: https://urllib3.readthedocs.io/en/latest/advanced-usage.html#ssl-warnings\n",
      "  InsecureRequestWarning)\n"
     ]
    }
   ],
   "source": [
    "response = requests.get(url, verify=False)\n",
    "soup = BeautifulSoup(response.text, 'lxml')"
   ]
  },
  {
   "cell_type": "code",
   "execution_count": 114,
   "metadata": {
    "collapsed": true
   },
   "outputs": [],
   "source": []
  },
  {
   "cell_type": "code",
   "execution_count": 115,
   "metadata": {},
   "outputs": [],
   "source": [
    "file_table = soup.find('table', {'class':'tableFile2'})\n",
    "rows = file_table.find_all('tr')\n",
    "link = []\n",
    "for row in rows:\n",
    "    cells = row.find_all('td')\n",
    "    for cell in cells[0:1]:\n",
    "        if cells[0].text == '13F-HR':\n",
    "            link.append(cells[1].find(href=True).get('href'))"
   ]
  },
  {
   "cell_type": "code",
   "execution_count": 116,
   "metadata": {},
   "outputs": [
    {
     "data": {
      "text/plain": [
       "['/Archives/edgar/data/1564702/000156470218000008/0001564702-18-000008-index.htm',\n",
       " '/Archives/edgar/data/1564702/000156470218000005/0001564702-18-000005-index.htm',\n",
       " '/Archives/edgar/data/1564702/000156470218000003/0001564702-18-000003-index.htm',\n",
       " '/Archives/edgar/data/1564702/000156470217000010/0001564702-17-000010-index.htm',\n",
       " '/Archives/edgar/data/1564702/000156470217000008/0001564702-17-000008-index.htm',\n",
       " '/Archives/edgar/data/1564702/000156470217000005/0001564702-17-000005-index.htm',\n",
       " '/Archives/edgar/data/1564702/000156470217000003/0001564702-17-000003-index.htm',\n",
       " '/Archives/edgar/data/1564702/000156470216000037/0001564702-16-000037-index.htm',\n",
       " '/Archives/edgar/data/1564702/000156470216000035/0001564702-16-000035-index.htm',\n",
       " '/Archives/edgar/data/1564702/000156470216000033/0001564702-16-000033-index.htm']"
      ]
     },
     "execution_count": 116,
     "metadata": {},
     "output_type": "execute_result"
    }
   ],
   "source": [
    "link"
   ]
  },
  {
   "cell_type": "code",
   "execution_count": null,
   "metadata": {
    "collapsed": true
   },
   "outputs": [],
   "source": []
  }
 ],
 "metadata": {
  "kernelspec": {
   "display_name": "Python 3",
   "language": "python",
   "name": "python3"
  },
  "language_info": {
   "codemirror_mode": {
    "name": "ipython",
    "version": 3
   },
   "file_extension": ".py",
   "mimetype": "text/x-python",
   "name": "python",
   "nbconvert_exporter": "python",
   "pygments_lexer": "ipython3",
   "version": "3.6.1"
  }
 },
 "nbformat": 4,
 "nbformat_minor": 2
}
