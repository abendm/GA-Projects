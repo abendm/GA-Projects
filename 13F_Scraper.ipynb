{
 "cells": [
  {
   "cell_type": "code",
   "execution_count": 46,
   "metadata": {
    "collapsed": true
   },
   "outputs": [],
   "source": [
    "import pandas as pd\n",
    "import os\n",
    "import re\n",
    "from bs4 import BeautifulSoup"
   ]
  },
  {
   "cell_type": "code",
   "execution_count": 69,
   "metadata": {
    "collapsed": true
   },
   "outputs": [],
   "source": [
    "df = pd.DataFrame(columns=['Manager', 'Year', 'Quarter' 'name', 'shareclass', \n",
    "                           'CUSIP', 'val1000', 'share_count', 'share_or_prin', 'discretion', \n",
    "                           'sole_vote_amt', 'shared_vote_amt'])"
   ]
  },
  {
   "cell_type": "code",
   "execution_count": 70,
   "metadata": {},
   "outputs": [
    {
     "data": {
      "text/plain": [
       "<function TextIOWrapper.close>"
      ]
     },
     "execution_count": 70,
     "metadata": {},
     "output_type": "execute_result"
    }
   ],
   "source": [
    "filename = 'C:/Users/maxabend/Pandas/GA-Projects/final_proj_data/EngineersGate_2018Q2.xml'\n",
    "f= open(filename)\n",
    "f.close\n",
    "# mgr_yr_qtr_ext = re.split('[_ .]', os.path.basename(filename))\n",
    "# mgr_yr_qtr_ext[0]"
   ]
  },
  {
   "cell_type": "markdown",
   "metadata": {},
   "source": [
    "## The below will take in a single 13F infotable, extract all of the data, and stick it into a dataframe.  The above \"mgr_yr_qtr_ext\" will extract the name of the investor, the year of the filing, the quarter of the filing, and the filename extension and put into a list.\n",
    "\n",
    "## Next step is to figure out how to loop through two files and place the manager, year, and quarter into each dataframe."
   ]
  },
  {
   "cell_type": "code",
   "execution_count": null,
   "metadata": {
    "collapsed": true
   },
   "outputs": [],
   "source": [
    "name = []\n",
    "sh_class = []\n",
    "cusip = []\n",
    "val1000 = []\n",
    "shares = []\n",
    "sh_prin_type = []\n",
    "discretion = []\n",
    "othermgr = []\n",
    "sole = []\n",
    "shared = []"
   ]
  },
  {
   "cell_type": "code",
   "execution_count": 68,
   "metadata": {
    "scrolled": true
   },
   "outputs": [],
   "source": [
    "directory = 'C:/Users/maxabend/Pandas/GA-Projects/final_proj_data/'\n",
    "for file in os.listdir(directory):\n",
    "    filename = os.fsdecode(file)\n",
    "    soup = BeautifulSoup(f, \"lxml\")\n",
    "    record = soup.find_all('infotable')"
   ]
  },
  {
   "cell_type": "code",
   "execution_count": 30,
   "metadata": {},
   "outputs": [
    {
     "data": {
      "text/plain": [
       "<function TextIOWrapper.close>"
      ]
     },
     "execution_count": 30,
     "metadata": {},
     "output_type": "execute_result"
    }
   ],
   "source": []
  },
  {
   "cell_type": "code",
   "execution_count": 31,
   "metadata": {},
   "outputs": [],
   "source": [
    "soup = BeautifulSoup(f, \"lxml\")"
   ]
  },
  {
   "cell_type": "code",
   "execution_count": 39,
   "metadata": {},
   "outputs": [],
   "source": [
    "record = soup.find_all('infotable')\n",
    "df = pd.DataFrame(columns=['Manager', 'Year', 'Quarter' 'name', 'shareclass', 'CUSIP', 'val1000', 'share_count', 'share_or_prin', 'discretion', 'sole_vote_amt', 'shared_vote_amt'])"
   ]
  },
  {
   "cell_type": "code",
   "execution_count": 40,
   "metadata": {
    "collapsed": true
   },
   "outputs": [],
   "source": []
  },
  {
   "cell_type": "code",
   "execution_count": 41,
   "metadata": {},
   "outputs": [],
   "source": [
    "for rec in record:\n",
    "    name.append(rec.find('nameofissuer').text)\n",
    "    sh_class.append(rec.find('titleofclass').text)\n",
    "    cusip.append(rec.find('cusip').text)\n",
    "    val1000.append(rec.find('value').text)\n",
    "    shares.append(rec.find('sshprnamt').text)\n",
    "    sh_prin_type.append(rec.find('sshprnamttype').text)\n",
    "    discretion.append(rec.find('investmentdiscretion').text)\n",
    "    sole.append(rec.find('sole').text)\n",
    "    shared.append(rec.find('shared').text)\n",
    "#     df.append(name, cusip, val1000, shares, sh_prin_type, discretion, othermgr, sole, shared)"
   ]
  },
  {
   "cell_type": "code",
   "execution_count": 42,
   "metadata": {},
   "outputs": [],
   "source": [
    "df.name = name\n",
    "df.shareclass = sh_class\n",
    "df.CUSIP = cusip\n",
    "df.val1000 = val1000\n",
    "df.share_count = shares\n",
    "df.share_or_prin = sh_prin_type\n",
    "df.discretion = discretion\n",
    "df.sole_vote_amt = sole\n",
    "df.shared_vote_amt = shared"
   ]
  },
  {
   "cell_type": "code",
   "execution_count": 43,
   "metadata": {},
   "outputs": [
    {
     "data": {
      "text/plain": [
       "COM                 667\n",
       "CL A                 65\n",
       "COM NEW              47\n",
       "SHS                  34\n",
       "COM CL A             25\n",
       "SPONSORED ADR         9\n",
       "ADR                   7\n",
       "SHS CL A              6\n",
       "ORD SHS               6\n",
       "CL A COM              5\n",
       "CL B                  3\n",
       "ORD                   3\n",
       "SHS NEW               3\n",
       "USD SHS               2\n",
       "SHS USD               2\n",
       "SPONSORED ADS         2\n",
       "COM PAR               2\n",
       "SPON ADR REP B        2\n",
       "CL A NEW              2\n",
       "CLASS A               2\n",
       "SPON ADR REP A        2\n",
       "SPON ADR CL D         1\n",
       "ORD SHS 0.03 PAR      1\n",
       "COM A SIRIUSXM        1\n",
       "CAP STK CL A          1\n",
       "SHS CLASS -A -        1\n",
       "SPONS ADS             1\n",
       "COM SER A             1\n",
       "SPON ADR L SHS        1\n",
       "COM SHS               1\n",
       "SPON ADR UNITS        1\n",
       "USD ORD SHS           1\n",
       "SHS PAR               1\n",
       "SPONSR ADR PFD        1\n",
       "COM DISNEY            1\n",
       "COM SER 1             1\n",
       "COM CL V              1\n",
       "CL A NON VTG          1\n",
       "COM UNIT LTD          1\n",
       "CL A VTG              1\n",
       "COM NO PAR            1\n",
       "COM UNIT REP LTD      1\n",
       "SPON ADR NEW          1\n",
       "NAMEN AKT             1\n",
       "COM PAR $0.01         1\n",
       "COM PAR $.01          1\n",
       "COM ACCD INV          1\n",
       "SHS EUR               1\n",
       "COM PAR $.01NEW       1\n",
       "ADS                   1\n",
       "SHS A                 1\n",
       "SER A COM             1\n",
       "CAP STK CL C          1\n",
       "ORD SHS CL A          1\n",
       "Name: shareclass, dtype: int64"
      ]
     },
     "execution_count": 43,
     "metadata": {},
     "output_type": "execute_result"
    }
   ],
   "source": []
  },
  {
   "cell_type": "code",
   "execution_count": null,
   "metadata": {
    "collapsed": true
   },
   "outputs": [],
   "source": []
  }
 ],
 "metadata": {
  "kernelspec": {
   "display_name": "Python 3",
   "language": "python",
   "name": "python3"
  },
  "language_info": {
   "codemirror_mode": {
    "name": "ipython",
    "version": 3
   },
   "file_extension": ".py",
   "mimetype": "text/x-python",
   "name": "python",
   "nbconvert_exporter": "python",
   "pygments_lexer": "ipython3",
   "version": "3.6.1"
  }
 },
 "nbformat": 4,
 "nbformat_minor": 2
}
