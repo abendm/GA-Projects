{
 "cells": [
  {
   "cell_type": "code",
   "execution_count": 2,
   "metadata": {
    "collapsed": true
   },
   "outputs": [],
   "source": [
    "import pandas as pd\n",
    "import os\n",
    "import re\n",
    "from bs4 import BeautifulSoup"
   ]
  },
  {
   "cell_type": "code",
   "execution_count": 3,
   "metadata": {
    "collapsed": true
   },
   "outputs": [],
   "source": [
    "df = pd.DataFrame(columns=['Manager', 'Year', 'Quarter' 'name', 'shareclass', \n",
    "                           'CUSIP', 'val1000', 'share_count', 'share_or_prin', 'discretion', \n",
    "                           'sole_vote_amt', 'shared_vote_amt'])"
   ]
  },
  {
   "cell_type": "code",
   "execution_count": 4,
   "metadata": {},
   "outputs": [
    {
     "data": {
      "text/plain": [
       "['EngineersGate', '2018', 'Q2', 'xml']"
      ]
     },
     "execution_count": 4,
     "metadata": {},
     "output_type": "execute_result"
    }
   ],
   "source": [
    "filename = \"final_proj_data/EngineersGate_2018_Q2.xml\"\n",
    "f= open(filename)\n",
    "f.close\n",
    "mgr_yr_qtr_ext = re.split('[_ .]', os.path.basename(filename))\n",
    "mgr_yr_qtr_ext"
   ]
  },
  {
   "cell_type": "markdown",
   "metadata": {},
   "source": [
    "## The below will take in a single 13F infotable, extract all of the data, and stick it into a dataframe.  The above \"mgr_yr_qtr_ext\" will extract the name of the investor, the year of the filing, the quarter of the filing, and the filename extension and put into a list.\n",
    "\n",
    "## Next step is to figure out how to loop through two files and place the manager, year, and quarter into each dataframe."
   ]
  },
  {
   "cell_type": "code",
   "execution_count": 8,
   "metadata": {},
   "outputs": [
    {
     "data": {
      "text/plain": [
       "[]"
      ]
     },
     "execution_count": 8,
     "metadata": {},
     "output_type": "execute_result"
    }
   ],
   "source": [
    "# mgr_yr_qtr_ext = re.split('[_ .]', os.path.basename(filename))\n",
    "# mgr_yr_qtr_ext[0]\n",
    "mgr_name = []\n",
    "year = []\n",
    "quarter = []\n",
    "sh_name = []\n",
    "sh_class = []\n",
    "cusip = []\n",
    "val1000 = []\n",
    "shares = []\n",
    "sh_prin_type = []\n",
    "discretion = []\n",
    "othermgr = []\n",
    "sole = []\n",
    "shared = []"
   ]
  },
  {
   "cell_type": "code",
   "execution_count": 34,
   "metadata": {
    "collapsed": true,
    "scrolled": true
   },
   "outputs": [],
   "source": [
    "# directory = 'final_proj_data/'\n",
    "# inner_df = pd.DataFrame(columns=['Manager', 'Year', 'Quarter' 'name', 'shareclass', 'CUSIP', 'val1000', 'share_count', \n",
    "#                                  'share_or_prin', 'discretion','sole_vote_amt', 'shared_vote_amt'])\n",
    "# for file in os.listdir(directory):\n",
    "#     filename = os.fsdecode(file)\n",
    "#     soup = BeautifulSoup(open(directory+filename), \"lxml\")\n",
    "#     record = soup.find_all('infotable')\n",
    "#     for rec in record:\n",
    "#         sh_name.append(rec.find('nameofissuer').text)\n",
    "#         sh_class.append(rec.find('titleofclass').text)\n",
    "#         cusip.append(rec.find('cusip').text)\n",
    "#         val1000.append(rec.find('value').text)\n",
    "#         shares.append(rec.find('sshprnamt').text)\n",
    "#         sh_prin_type.append(rec.find('sshprnamttype').text)\n",
    "#         discretion.append(rec.find('investmentdiscretion').text)\n",
    "#         sole.append(rec.find('sole').text)\n",
    "#         shared.append(rec.find('shared').text)\n",
    "#         inner_df = pd.DataFrame(columns=['Manager', 'Year', 'Quarter' 'name', 'shareclass', 'CUSIP', 'val1000', 'share_count', 'share_or_prin', 'discretion', \n",
    "#                            'sole_vote_amt', 'shared_vote_amt'])\n",
    "#         df.Manager = "
   ]
  },
  {
   "cell_type": "code",
   "execution_count": 27,
   "metadata": {
    "collapsed": true,
    "scrolled": true
   },
   "outputs": [],
   "source": [
    "directory = 'final_proj_data/'\n",
    "df = pd.DataFrame(columns=['manager', 'year', 'quarter' 'sh_name', 'sh_class', 'cusip', 'val1000', 'share_count', \n",
    "                                 'share_or_prin', 'discretion','sole_vote_amt', 'shared_vote_amt'])\n",
    "sh_name = []\n",
    "sh_class = []\n",
    "cusip = []\n",
    "val1000 = []\n",
    "share_count = []\n",
    "share_or_prin = []\n",
    "discretion = []\n",
    "sole_vote_amt = []\n",
    "shared_vote_amt = []\n",
    "mgr_name = []\n",
    "year = []\n",
    "quarter = []\n",
    "for file in os.listdir(directory):\n",
    "    filename = os.fsdecode(file)\n",
    "    soup = BeautifulSoup(open(directory+filename), \"lxml\")\n",
    "    record = soup.find_all('infotable')\n",
    "    for rec in record:\n",
    "        mgr_name.append(re.split('[_ .]', filename)[0])\n",
    "        year.append(re.split('[_ .]', filename)[1])\n",
    "        quarter.append(re.split('[_ .]', filename)[2])\n",
    "        sh_name.append(rec.find('nameofissuer').text)\n",
    "        sh_class.append(rec.find('titleofclass').text)\n",
    "        cusip.append(rec.find('cusip').text)\n",
    "        val1000.append(rec.find('value').text)\n",
    "        share_count.append(rec.find('sshprnamt').text)\n",
    "        share_or_prin.append(rec.find('sshprnamttype').text)\n",
    "        discretion.append(rec.find('investmentdiscretion').text)\n",
    "        sole_vote_amt.append(rec.find('sole').text)\n",
    "        shared_vote_amt.append(rec.find('shared').text)\n",
    "inner_df.manager = mgr_name\n",
    "inner_df.year = year\n",
    "inner_df.quarter = quarter\n",
    "inner_df.sh_name = sh_name\n",
    "inner_df.sh_class = sh_class\n",
    "inner_df.cusip = cusip\n",
    "inner_df.val1000 = val1000\n",
    "inner_df.share_count = share_count\n",
    "inner_df.share_or_prin = share_or_prin\n",
    "inner_df.discretion = discretion\n",
    "inner_df.sole_vote_amt = sole_vote_amt\n",
    "inner_df.shared_vote_amt = shared_vote_amt"
   ]
  },
  {
   "cell_type": "code",
   "execution_count": 28,
   "metadata": {},
   "outputs": [
    {
     "data": {
      "text/plain": [
       "0           Berkshire\n",
       "1           Berkshire\n",
       "2           Berkshire\n",
       "3           Berkshire\n",
       "4           Berkshire\n",
       "5           Berkshire\n",
       "6           Berkshire\n",
       "7           Berkshire\n",
       "8           Berkshire\n",
       "9           Berkshire\n",
       "10          Berkshire\n",
       "11          Berkshire\n",
       "12          Berkshire\n",
       "13          Berkshire\n",
       "14          Berkshire\n",
       "15          Berkshire\n",
       "16          Berkshire\n",
       "17          Berkshire\n",
       "18          Berkshire\n",
       "19          Berkshire\n",
       "20          Berkshire\n",
       "21          Berkshire\n",
       "22          Berkshire\n",
       "23          Berkshire\n",
       "24          Berkshire\n",
       "25          Berkshire\n",
       "26          Berkshire\n",
       "27          Berkshire\n",
       "28          Berkshire\n",
       "29          Berkshire\n",
       "            ...      \n",
       "1049    EngineersGate\n",
       "1050    EngineersGate\n",
       "1051    EngineersGate\n",
       "1052    EngineersGate\n",
       "1053    EngineersGate\n",
       "1054    EngineersGate\n",
       "1055    EngineersGate\n",
       "1056    EngineersGate\n",
       "1057    EngineersGate\n",
       "1058    EngineersGate\n",
       "1059    EngineersGate\n",
       "1060    EngineersGate\n",
       "1061    EngineersGate\n",
       "1062    EngineersGate\n",
       "1063    EngineersGate\n",
       "1064    EngineersGate\n",
       "1065    EngineersGate\n",
       "1066    EngineersGate\n",
       "1067    EngineersGate\n",
       "1068    EngineersGate\n",
       "1069    EngineersGate\n",
       "1070    EngineersGate\n",
       "1071    EngineersGate\n",
       "1072    EngineersGate\n",
       "1073    EngineersGate\n",
       "1074    EngineersGate\n",
       "1075    EngineersGate\n",
       "1076    EngineersGate\n",
       "1077    EngineersGate\n",
       "1078    EngineersGate\n",
       "Name: manager, Length: 1079, dtype: object"
      ]
     },
     "execution_count": 28,
     "metadata": {},
     "output_type": "execute_result"
    }
   ],
   "source": [
    "inner_df.manager"
   ]
  },
  {
   "cell_type": "code",
   "execution_count": 31,
   "metadata": {
    "collapsed": true
   },
   "outputs": [],
   "source": [
    "soup = BeautifulSoup(f, \"lxml\")"
   ]
  },
  {
   "cell_type": "code",
   "execution_count": 39,
   "metadata": {
    "collapsed": true
   },
   "outputs": [],
   "source": [
    "record = soup.find_all('infotable')\n",
    "df = pd.DataFrame(columns=['Manager', 'Year', 'Quarter' 'name', 'shareclass', 'CUSIP', 'val1000', 'share_count', 'share_or_prin', 'discretion', 'sole_vote_amt', 'shared_vote_amt'])"
   ]
  },
  {
   "cell_type": "code",
   "execution_count": 40,
   "metadata": {
    "collapsed": true
   },
   "outputs": [],
   "source": []
  },
  {
   "cell_type": "code",
   "execution_count": 41,
   "metadata": {
    "collapsed": true
   },
   "outputs": [],
   "source": [
    "for rec in record:\n",
    "    name.append(rec.find('nameofissuer').text)\n",
    "    sh_class.append(rec.find('titleofclass').text)\n",
    "    cusip.append(rec.find('cusip').text)\n",
    "    val1000.append(rec.find('value').text)\n",
    "    shares.append(rec.find('sshprnamt').text)\n",
    "    sh_prin_type.append(rec.find('sshprnamttype').text)\n",
    "    discretion.append(rec.find('investmentdiscretion').text)\n",
    "    sole.append(rec.find('sole').text)\n",
    "    shared.append(rec.find('shared').text)\n",
    "#     df.append(name, cusip, val1000, shares, sh_prin_type, discretion, othermgr, sole, shared)"
   ]
  },
  {
   "cell_type": "code",
   "execution_count": 42,
   "metadata": {
    "collapsed": true
   },
   "outputs": [],
   "source": [
    "df.name = name\n",
    "df.shareclass = sh_class\n",
    "df.CUSIP = cusip\n",
    "df.val1000 = val1000\n",
    "df.share_count = shares\n",
    "df.share_or_prin = sh_prin_type\n",
    "df.discretion = discretion\n",
    "df.sole_vote_amt = sole\n",
    "df.shared_vote_amt = shared"
   ]
  },
  {
   "cell_type": "code",
   "execution_count": 43,
   "metadata": {},
   "outputs": [
    {
     "data": {
      "text/plain": [
       "COM                 667\n",
       "CL A                 65\n",
       "COM NEW              47\n",
       "SHS                  34\n",
       "COM CL A             25\n",
       "SPONSORED ADR         9\n",
       "ADR                   7\n",
       "SHS CL A              6\n",
       "ORD SHS               6\n",
       "CL A COM              5\n",
       "CL B                  3\n",
       "ORD                   3\n",
       "SHS NEW               3\n",
       "USD SHS               2\n",
       "SHS USD               2\n",
       "SPONSORED ADS         2\n",
       "COM PAR               2\n",
       "SPON ADR REP B        2\n",
       "CL A NEW              2\n",
       "CLASS A               2\n",
       "SPON ADR REP A        2\n",
       "SPON ADR CL D         1\n",
       "ORD SHS 0.03 PAR      1\n",
       "COM A SIRIUSXM        1\n",
       "CAP STK CL A          1\n",
       "SHS CLASS -A -        1\n",
       "SPONS ADS             1\n",
       "COM SER A             1\n",
       "SPON ADR L SHS        1\n",
       "COM SHS               1\n",
       "SPON ADR UNITS        1\n",
       "USD ORD SHS           1\n",
       "SHS PAR               1\n",
       "SPONSR ADR PFD        1\n",
       "COM DISNEY            1\n",
       "COM SER 1             1\n",
       "COM CL V              1\n",
       "CL A NON VTG          1\n",
       "COM UNIT LTD          1\n",
       "CL A VTG              1\n",
       "COM NO PAR            1\n",
       "COM UNIT REP LTD      1\n",
       "SPON ADR NEW          1\n",
       "NAMEN AKT             1\n",
       "COM PAR $0.01         1\n",
       "COM PAR $.01          1\n",
       "COM ACCD INV          1\n",
       "SHS EUR               1\n",
       "COM PAR $.01NEW       1\n",
       "ADS                   1\n",
       "SHS A                 1\n",
       "SER A COM             1\n",
       "CAP STK CL C          1\n",
       "ORD SHS CL A          1\n",
       "Name: shareclass, dtype: int64"
      ]
     },
     "execution_count": 43,
     "metadata": {},
     "output_type": "execute_result"
    }
   ],
   "source": []
  },
  {
   "cell_type": "code",
   "execution_count": null,
   "metadata": {
    "collapsed": true
   },
   "outputs": [],
   "source": []
  }
 ],
 "metadata": {
  "kernelspec": {
   "display_name": "Python 3",
   "language": "python",
   "name": "python3"
  },
  "language_info": {
   "codemirror_mode": {
    "name": "ipython",
    "version": 3
   },
   "file_extension": ".py",
   "mimetype": "text/x-python",
   "name": "python",
   "nbconvert_exporter": "python",
   "pygments_lexer": "ipython3",
   "version": "3.6.1"
  }
 },
 "nbformat": 4,
 "nbformat_minor": 2
}
